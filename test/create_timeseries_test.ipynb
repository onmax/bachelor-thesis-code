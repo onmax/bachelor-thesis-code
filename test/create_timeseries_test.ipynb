{
 "metadata": {
  "language_info": {
   "codemirror_mode": {
    "name": "ipython",
    "version": 3
   },
   "file_extension": ".py",
   "mimetype": "text/x-python",
   "name": "python",
   "nbconvert_exporter": "python",
   "pygments_lexer": "ipython3",
   "version": "3.8.5-final"
  },
  "orig_nbformat": 2,
  "kernelspec": {
   "name": "python3",
   "display_name": "Python 3",
   "language": "python"
  }
 },
 "nbformat": 4,
 "nbformat_minor": 2,
 "cells": [
  {
   "cell_type": "code",
   "execution_count": 21,
   "metadata": {},
   "outputs": [
    {
     "output_type": "stream",
     "name": "stdout",
     "text": [
      "The autoreload extension is already loaded. To reload it, use:\n  %reload_ext autoreload\n"
     ]
    }
   ],
   "source": [
    "%load_ext autoreload\n",
    "%autoreload 2"
   ]
  },
  {
   "cell_type": "code",
   "execution_count": 20,
   "metadata": {},
   "outputs": [],
   "source": [
    "import unittest\n",
    "import pandas as pd\n",
    "\n",
    "import os\n",
    "import inspect\n",
    "import sys\n",
    "from pandas._testing import assert_frame_equal\n",
    "\n",
    "\n",
    "sys.path.insert(1, '../src/preprocessing/')\n",
    "from preprocessing_lib import nn_format\n"
   ]
  },
  {
   "cell_type": "code",
   "execution_count": 38,
   "metadata": {},
   "outputs": [],
   "source": [
    "class TestCreateTimeseries(unittest.TestCase):\n",
    "    \n",
    "    def test_nn_format(self):\n",
    "        df = pd.DataFrame({\n",
    "            \"start_time\": [\"2018-01-01 00:00:00\"] * 3 + [\"2018-01-01 01:00:00\"] * 3 +  [\"2018-01-01 02:00:00\"] * 3,\n",
    "            \"from_station_id\": [1, 2, 3, 1, 2, 3, 1, 2, 3],\n",
    "            \"quantity\": [100,200,300,101,201,301, 102, 202, 302]\n",
    "        })\n",
    "        df = df.reset_index(drop=True).set_index(\"start_time\")\n",
    "\n",
    "        expected_df = pd.DataFrame({ \n",
    "            \"start_time\": [\"2018-01-01 00:00:00\", \"2018-01-01 01:00:00\", \"2018-01-01 02:00:00\"],\n",
    "            \"quantity_1\": [100, 101, 102],\n",
    "            \"quantity_2\": [200, 201, 202],\n",
    "            \"quantity_3\": [300, 301, 302],\n",
    "        })\n",
    "        expected_df = expected_df.reset_index(drop=True).set_index(\"start_time\")\n",
    "\n",
    "        df_nn = nn_format(df)\n",
    "        assert_frame_equal(expected_df, df_nn)\n",
    "\n",
    "        "
   ]
  },
  {
   "cell_type": "code",
   "execution_count": 39,
   "metadata": {},
   "outputs": [
    {
     "output_type": "stream",
     "name": "stderr",
     "text": [
      ".\n",
      "----------------------------------------------------------------------\n",
      "Ran 1 test in 0.009s\n",
      "\n",
      "OK\n"
     ]
    }
   ],
   "source": [
    "if __name__ == '__main__':\n",
    "    unittest.main(argv=['first-arg-is-ignored'], exit=False)"
   ]
  }
 ]
}
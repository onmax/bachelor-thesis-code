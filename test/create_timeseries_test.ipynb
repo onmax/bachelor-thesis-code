{
 "cells": [
  {
   "cell_type": "code",
   "execution_count": 2,
   "metadata": {},
   "outputs": [],
   "source": [
    "%load_ext autoreload\n",
    "%autoreload 2"
   ]
  },
  {
   "cell_type": "code",
   "execution_count": 6,
   "metadata": {},
   "outputs": [],
   "source": [
    "import unittest\n",
    "import pandas as pd\n",
    "import numpy as np\n",
    "\n",
    "import os\n",
    "import inspect\n",
    "import sys\n",
    "from pandas._testing import assert_frame_equal\n",
    "\n",
    "\n",
    "sys.path.insert(1, '../src/preprocessing/')\n",
    "from preprocessing_lib import nn_format\n",
    "from dataset_lib import shift\n"
   ]
  },
  {
   "cell_type": "code",
   "execution_count": 7,
   "metadata": {},
   "outputs": [],
   "source": [
    "class TestCreateTimeseries(unittest.TestCase):\n",
    "    \n",
    "    def no_test_nn_format(self):\n",
    "        df = pd.DataFrame({\n",
    "            \"start_time\": [\"2018-01-01 00:00:00\"] * 3 + [\"2018-01-01 01:00:00\"] * 3 +  [\"2018-01-01 02:00:00\"] * 3,\n",
    "            \"from_station_id\": [1, 2, 3, 1, 2, 3, 1, 2, 3],\n",
    "            \"quantity\": [100,200,300,101,201,301, 102, 202, 302]\n",
    "        })\n",
    "        # df = df.reset_index(drop=True).set_index(\"start_time\")\n",
    "\n",
    "        expected_df = pd.DataFrame({ \n",
    "            \"start_time\": [\"2018-01-01 00:00:00\", \"2018-01-01 01:00:00\", \"2018-01-01 02:00:00\"],\n",
    "            \"quantity_1\": [100, 101, 102],\n",
    "            \"quantity_2\": [200, 201, 202],\n",
    "            \"quantity_3\": [300, 301, 302],\n",
    "        })\n",
    "        expected_df = expected_df.reset_index(drop=True).set_index(\"start_time\")\n",
    "\n",
    "        df_nn = nn_format(df)\n",
    "        assert_frame_equal(expected_df, df_nn)\n",
    "    \n",
    "    def test_shift_by_one(self):\n",
    "        df = pd.DataFrame(pd.DataFrame({\n",
    "            \"start_time\": [\"2018-01-01 00:00:00\", \"2018-01-01 01:00:00\", \"2018-01-01 02:00:00\",\n",
    "                        \"2018-01-02 00:00:00\", \"2018-01-02 01:00:00\", \"2018-01-02 02:00:00\",\n",
    "                        \"2018-01-03 00:00:00\", \"2018-01-03 01:00:00\", \"2018-01-03 02:00:00\",\n",
    "                        \"2018-01-04 00:00:00\", \"2018-01-04 01:00:00\", \"2018-01-04 02:00:00\"],\n",
    "            \"hour\": [1, 2, 3] * 4,\n",
    "            \"day_of_week\": [5] * 3 + [6] * 3 + [7] * 3 + [1] * 3,\n",
    "            \"month\": [1] * 12,\n",
    "            \"quantity_1\": [100, 101, 102, 103, 104, 105, 106, 107, 108, 109, 110, 111],\n",
    "            \"quantity_2\": [200, 201, 202, 203, 204, 205, 206, 207, 208, 209, 210, 211],\n",
    "            \"quantity_3\": [300, 301, 302, 303, 304, 305, 306, 307, 308, 309, 310, 311],\n",
    "        }))\n",
    "        df[\"start_time\"] = pd.to_datetime(\n",
    "                df[\"start_time\"], format='%Y-%m-%d %H:%M:%S')\n",
    "        df = df.reset_index(drop=True).set_index(\"start_time\")\n",
    "\n",
    "        expected_df = pd.DataFrame(pd.DataFrame({\n",
    "            \"start_time\": [\"2018-01-02 00:00:00\", \"2018-01-02 01:00:00\", \"2018-01-02 02:00:00\",\n",
    "                        \"2018-01-03 00:00:00\", \"2018-01-03 01:00:00\", \"2018-01-03 02:00:00\",\n",
    "                        \"2018-01-04 00:00:00\", \"2018-01-04 01:00:00\", \"2018-01-04 02:00:00\"],\n",
    "            \"hour\": [1, 2, 3] * 3,\n",
    "            \"day_of_week\": [6] * 3 + [7] * 3 + [1] * 3,\n",
    "            \"month\": [1] * 9,\n",
    "            \"quantity_1\": [100, 101, 102, 103, 104, 105, 106, 107, 108],\n",
    "            \"quantity_2\": [200, 201, 202, 203, 204, 205, 206, 207, 208],\n",
    "            \"quantity_3\": [300, 301, 302, 303, 304, 305, 306, 307, 308],\n",
    "        }))\n",
    "        expected_df[\"start_time\"] = pd.to_datetime(\n",
    "                expected_df[\"start_time\"], format='%Y-%m-%d %H:%M:%S')\n",
    "        expected_df = expected_df.reset_index(drop=True).set_index(\"start_time\")\n",
    "        assert_frame_equal(expected_df, shift(df))\n",
    "\n",
    "\n",
    "        "
   ]
  },
  {
   "cell_type": "code",
   "execution_count": 8,
   "metadata": {},
   "outputs": [
    {
     "name": "stderr",
     "output_type": "stream",
     "text": [
      ".\n",
      "----------------------------------------------------------------------\n",
      "Ran 1 test in 0.019s\n",
      "\n",
      "OK\n"
     ]
    }
   ],
   "source": [
    "if __name__ == '__main__':\n",
    "    unittest.main(argv=[\"\"], exit=False)"
   ]
  }
 ],
 "metadata": {
  "kernelspec": {
   "display_name": "Python 3",
   "language": "python",
   "name": "python3"
  },
  "language_info": {
   "codemirror_mode": {
    "name": "ipython",
    "version": 3
   },
   "file_extension": ".py",
   "mimetype": "text/x-python",
   "name": "python",
   "nbconvert_exporter": "python",
   "pygments_lexer": "ipython3",
   "version": "3.8.3"
  },
  "orig_nbformat": 2
 },
 "nbformat": 4,
 "nbformat_minor": 2
}
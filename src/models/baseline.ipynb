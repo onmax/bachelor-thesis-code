{
 "metadata": {
  "language_info": {
   "codemirror_mode": {
    "name": "ipython",
    "version": 3
   },
   "file_extension": ".py",
   "mimetype": "text/x-python",
   "name": "python",
   "nbconvert_exporter": "python",
   "pygments_lexer": "ipython3",
   "version": "3.8.5-final"
  },
  "orig_nbformat": 2,
  "kernelspec": {
   "name": "python3",
   "display_name": "Python 3",
   "language": "python"
  }
 },
 "nbformat": 4,
 "nbformat_minor": 2,
 "cells": [
  {
   "cell_type": "code",
   "execution_count": 56,
   "metadata": {},
   "outputs": [
    {
     "output_type": "stream",
     "name": "stdout",
     "text": [
      "The autoreload extension is already loaded. To reload it, use:\n  %reload_ext autoreload\n"
     ]
    }
   ],
   "source": [
    "%load_ext autoreload\n",
    "%autoreload 2"
   ]
  },
  {
   "cell_type": "code",
   "execution_count": 66,
   "metadata": {},
   "outputs": [],
   "source": [
    "!pip3 install tensorflow >> /dev/null"
   ]
  },
  {
   "cell_type": "code",
   "execution_count": 68,
   "metadata": {},
   "outputs": [],
   "source": [
    "import pandas as pd\n",
    "from dataset_lib import load_dataset, split_dataset\n",
    "import tensorflow as tf\n"
   ]
  },
  {
   "cell_type": "code",
   "execution_count": 15,
   "metadata": {},
   "outputs": [
    {
     "output_type": "stream",
     "name": "stdout",
     "text": [
      "Putting together /mnt/f/proyectos/bikes/src/models/../../data/parts/chicago-divvy-trips-part-1\n",
      "Putting together /mnt/f/proyectos/bikes/src/models/../../data/parts/chicago-divvy-trips-part-2\n",
      "Putting together /mnt/f/proyectos/bikes/src/models/../../data/parts/chicago-divvy-trips-part-3\n",
      "Putting together /mnt/f/proyectos/bikes/src/models/../../data/parts/chicago-divvy-trips-part-4\n",
      "Putting together /mnt/f/proyectos/bikes/src/models/../../data/parts/chicago-divvy-trips-part-5\n",
      "Putting together /mnt/f/proyectos/bikes/src/models/../../data/parts/chicago-divvy-trips-part-6\n",
      "Putting together /mnt/f/proyectos/bikes/src/models/../../data/parts/chicago-divvy-trips-part-7\n",
      "Putting together /mnt/f/proyectos/bikes/src/models/../../data/parts/chicago-divvy-trips-part-8\n",
      "Putting together /mnt/f/proyectos/bikes/src/models/../../data/parts/chicago-divvy-trips-part-9\n",
      "Putting together /mnt/f/proyectos/bikes/src/models/../../data/parts/chicago-divvy-trips-part-10\n",
      "Putting together /mnt/f/proyectos/bikes/src/models/../../data/parts/chicago-divvy-trips-part-11\n",
      "Putting together /mnt/f/proyectos/bikes/src/models/../../data/parts/chicago-divvy-trips-part-12\n",
      "Putting together /mnt/f/proyectos/bikes/src/models/../../data/parts/chicago-divvy-trips-part-13\n",
      "Putting together /mnt/f/proyectos/bikes/src/models/../../data/parts/chicago-divvy-trips-part-14\n"
     ]
    }
   ],
   "source": [
    "df = load_dataset()\n"
   ]
  },
  {
   "cell_type": "code",
   "execution_count": 59,
   "metadata": {},
   "outputs": [
    {
     "output_type": "stream",
     "name": "stdout",
     "text": [
      "Training from 2014-01-01 00:00:00 to 2018-12-31 23:00:00\nValidating from 2019-01-01 00:00:00 to 2019-12-31 23:00:00\n"
     ]
    }
   ],
   "source": [
    "train_df, val_df = split_dataset(df)"
   ]
  },
  {
   "source": [
    "## Baseline forecast\n",
    "\n",
    "This prediction will be based on the previous day only"
   ],
   "cell_type": "markdown",
   "metadata": {}
  },
  {
   "cell_type": "code",
   "execution_count": 60,
   "metadata": {},
   "outputs": [
    {
     "output_type": "execute_result",
     "data": {
      "text/plain": [
       "                     from_station_id  quantity\n",
       "start_time                                    \n",
       "2014-01-01 00:00:00               69         1\n",
       "2014-01-01 00:00:00               94         1\n",
       "2014-01-01 01:00:00               94         0\n",
       "2014-01-01 01:00:00              127         3\n",
       "2014-01-01 01:00:00              240         1\n",
       "...                              ...       ...\n",
       "2018-12-31 23:00:00              333         0\n",
       "2018-12-31 23:00:00              191         0\n",
       "2018-12-31 23:00:00              216         0\n",
       "2018-12-31 23:00:00              128         0\n",
       "2018-12-31 23:00:00              664         0\n",
       "\n",
       "[21052908 rows x 2 columns]"
      ],
      "text/html": "<div>\n<style scoped>\n    .dataframe tbody tr th:only-of-type {\n        vertical-align: middle;\n    }\n\n    .dataframe tbody tr th {\n        vertical-align: top;\n    }\n\n    .dataframe thead th {\n        text-align: right;\n    }\n</style>\n<table border=\"1\" class=\"dataframe\">\n  <thead>\n    <tr style=\"text-align: right;\">\n      <th></th>\n      <th>from_station_id</th>\n      <th>quantity</th>\n    </tr>\n    <tr>\n      <th>start_time</th>\n      <th></th>\n      <th></th>\n    </tr>\n  </thead>\n  <tbody>\n    <tr>\n      <th>2014-01-01 00:00:00</th>\n      <td>69</td>\n      <td>1</td>\n    </tr>\n    <tr>\n      <th>2014-01-01 00:00:00</th>\n      <td>94</td>\n      <td>1</td>\n    </tr>\n    <tr>\n      <th>2014-01-01 01:00:00</th>\n      <td>94</td>\n      <td>0</td>\n    </tr>\n    <tr>\n      <th>2014-01-01 01:00:00</th>\n      <td>127</td>\n      <td>3</td>\n    </tr>\n    <tr>\n      <th>2014-01-01 01:00:00</th>\n      <td>240</td>\n      <td>1</td>\n    </tr>\n    <tr>\n      <th>...</th>\n      <td>...</td>\n      <td>...</td>\n    </tr>\n    <tr>\n      <th>2018-12-31 23:00:00</th>\n      <td>333</td>\n      <td>0</td>\n    </tr>\n    <tr>\n      <th>2018-12-31 23:00:00</th>\n      <td>191</td>\n      <td>0</td>\n    </tr>\n    <tr>\n      <th>2018-12-31 23:00:00</th>\n      <td>216</td>\n      <td>0</td>\n    </tr>\n    <tr>\n      <th>2018-12-31 23:00:00</th>\n      <td>128</td>\n      <td>0</td>\n    </tr>\n    <tr>\n      <th>2018-12-31 23:00:00</th>\n      <td>664</td>\n      <td>0</td>\n    </tr>\n  </tbody>\n</table>\n<p>21052908 rows × 2 columns</p>\n</div>"
     },
     "metadata": {},
     "execution_count": 60
    }
   ],
   "source": [
    "train_df"
   ]
  }
 ]
}
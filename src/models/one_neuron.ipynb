{
 "metadata": {
  "language_info": {
   "codemirror_mode": {
    "name": "ipython",
    "version": 3
   },
   "file_extension": ".py",
   "mimetype": "text/x-python",
   "name": "python",
   "nbconvert_exporter": "python",
   "pygments_lexer": "ipython3",
   "version": "3.8.5-final"
  },
  "orig_nbformat": 2,
  "kernelspec": {
   "name": "python3",
   "display_name": "Python 3",
   "language": "python"
  }
 },
 "nbformat": 4,
 "nbformat_minor": 2,
 "cells": [
  {
   "cell_type": "code",
   "execution_count": 6,
   "metadata": {},
   "outputs": [
    {
     "output_type": "stream",
     "name": "stdout",
     "text": [
      "\u001b[33mWARNING: You are using pip version 20.0.2; however, version 20.3.1 is available.\nYou should consider upgrading via the '/usr/bin/python3 -m pip install --upgrade pip' command.\u001b[0m\n"
     ]
    }
   ],
   "source": [
    "!pip3 install tensorflow tensorboard pandas >> /dev/null"
   ]
  },
  {
   "cell_type": "code",
   "execution_count": 7,
   "metadata": {},
   "outputs": [
    {
     "output_type": "stream",
     "name": "stdout",
     "text": [
      "The autoreload extension is already loaded. To reload it, use:\n  %reload_ext autoreload\nThe tensorboard extension is already loaded. To reload it, use:\n  %reload_ext tensorboard\n"
     ]
    }
   ],
   "source": [
    "%load_ext autoreload\n",
    "%autoreload 2\n",
    "%load_ext tensorboard"
   ]
  },
  {
   "cell_type": "code",
   "execution_count": 14,
   "metadata": {},
   "outputs": [
    {
     "output_type": "error",
     "ename": "ModuleNotFoundError",
     "evalue": "No module named 'dataset_lib'",
     "traceback": [
      "\u001b[0;31m---------------------------------------------------------------------------\u001b[0m",
      "\u001b[0;31mModuleNotFoundError\u001b[0m                       Traceback (most recent call last)",
      "\u001b[0;32m<ipython-input-14-f248df2ccf32>\u001b[0m in \u001b[0;36m<module>\u001b[0;34m\u001b[0m\n\u001b[1;32m      5\u001b[0m \u001b[0msys\u001b[0m\u001b[0;34m.\u001b[0m\u001b[0mpath\u001b[0m\u001b[0;34m.\u001b[0m\u001b[0mappend\u001b[0m\u001b[0;34m(\u001b[0m\u001b[0;34m'./dataset_lib.py'\u001b[0m\u001b[0;34m)\u001b[0m\u001b[0;34m\u001b[0m\u001b[0;34m\u001b[0m\u001b[0m\n\u001b[1;32m      6\u001b[0m \u001b[0;34m\u001b[0m\u001b[0m\n\u001b[0;32m----> 7\u001b[0;31m \u001b[0;32mfrom\u001b[0m \u001b[0mdataset_lib\u001b[0m \u001b[0;32mimport\u001b[0m \u001b[0mload_dataset\u001b[0m\u001b[0;34m,\u001b[0m \u001b[0msplit_dataset\u001b[0m\u001b[0;34m\u001b[0m\u001b[0;34m\u001b[0m\u001b[0m\n\u001b[0m\u001b[1;32m      8\u001b[0m \u001b[0;32mfrom\u001b[0m \u001b[0mwindow\u001b[0m \u001b[0;32mimport\u001b[0m \u001b[0mWindowGenerator\u001b[0m\u001b[0;34m\u001b[0m\u001b[0;34m\u001b[0m\u001b[0m\n\u001b[1;32m      9\u001b[0m \u001b[0;32mfrom\u001b[0m \u001b[0mmodel_lib\u001b[0m \u001b[0;32mimport\u001b[0m \u001b[0mcompile_and_fit\u001b[0m\u001b[0;34m\u001b[0m\u001b[0;34m\u001b[0m\u001b[0m\n",
      "\u001b[0;31mModuleNotFoundError\u001b[0m: No module named 'dataset_lib'"
     ]
    }
   ],
   "source": [
    "import pandas as pd\n",
    "from datetime import datetime\n",
    "import tensorflow as tf\n",
    "import sys\n",
    "sys.path.append('./dataset_lib.py')\n",
    "\n",
    "from dataset_lib import load_dataset, split_dataset\n",
    "from window import WindowGenerator\n",
    "from model_lib import compile_and_fit\n"
   ]
  },
  {
   "cell_type": "code",
   "execution_count": null,
   "metadata": {},
   "outputs": [],
   "source": [
    "df = load_dataset()\n",
    "train_df, val_df = split_dataset(df, train_from=datetime(2014, 1, 1))"
   ]
  },
  {
   "cell_type": "code",
   "execution_count": null,
   "metadata": {},
   "outputs": [],
   "source": [
    "train_df"
   ]
  },
  {
   "cell_type": "code",
   "execution_count": 30,
   "metadata": {},
   "outputs": [
    {
     "output_type": "stream",
     "name": "stdout",
     "text": [
      "Epoch 1/10\n",
      "  2/100 [..............................] - ETA: 5s - loss: 0.7839 - mean_absolute_error: 312.3661 - root_mean_squared_error: 315.0497WARNING:tensorflow:Callbacks method `on_train_batch_end` is slow compared to the batch time (batch time: 0.0027s vs `on_train_batch_end` time: 0.1008s). Check your callbacks.\n",
      "100/100 [==============================] - 3s 33ms/step - loss: 1.3146 - mean_absolute_error: 312.1541 - root_mean_squared_error: 314.8429 - val_loss: 1.4275 - val_mean_absolute_error: 315.7160 - val_root_mean_squared_error: 318.4976\n",
      "Epoch 2/10\n",
      "100/100 [==============================] - 3s 32ms/step - loss: 1.2156 - mean_absolute_error: 312.2222 - root_mean_squared_error: 314.9023 - val_loss: 1.4275 - val_mean_absolute_error: 315.7156 - val_root_mean_squared_error: 318.4974\n",
      "Epoch 3/10\n",
      "100/100 [==============================] - 3s 32ms/step - loss: 1.2923 - mean_absolute_error: 312.4277 - root_mean_squared_error: 315.1198 - val_loss: 1.4275 - val_mean_absolute_error: 315.7155 - val_root_mean_squared_error: 318.4973\n",
      "Epoch 4/10\n",
      "100/100 [==============================] - 3s 31ms/step - loss: 1.3298 - mean_absolute_error: 312.0904 - root_mean_squared_error: 314.7784 - val_loss: 1.4275 - val_mean_absolute_error: 315.7160 - val_root_mean_squared_error: 318.4974\n",
      "Epoch 5/10\n",
      "100/100 [==============================] - 3s 31ms/step - loss: 1.3053 - mean_absolute_error: 312.3019 - root_mean_squared_error: 314.9848 - val_loss: 1.4275 - val_mean_absolute_error: 315.7161 - val_root_mean_squared_error: 318.4975\n",
      "Epoch 6/10\n",
      "100/100 [==============================] - 3s 32ms/step - loss: 1.2616 - mean_absolute_error: 312.2873 - root_mean_squared_error: 314.9689 - val_loss: 1.4275 - val_mean_absolute_error: 315.7160 - val_root_mean_squared_error: 318.4976\n",
      "Epoch 7/10\n",
      "100/100 [==============================] - 3s 32ms/step - loss: 1.2410 - mean_absolute_error: 312.0437 - root_mean_squared_error: 314.7202 - val_loss: 1.4275 - val_mean_absolute_error: 315.7162 - val_root_mean_squared_error: 318.4974\n",
      "Epoch 8/10\n",
      "100/100 [==============================] - 3s 31ms/step - loss: 1.2692 - mean_absolute_error: 312.0268 - root_mean_squared_error: 314.7118 - val_loss: 1.4275 - val_mean_absolute_error: 315.7159 - val_root_mean_squared_error: 318.4975\n",
      "Epoch 9/10\n",
      "100/100 [==============================] - 3s 32ms/step - loss: 1.3611 - mean_absolute_error: 312.5084 - root_mean_squared_error: 315.1956 - val_loss: 1.4275 - val_mean_absolute_error: 315.7159 - val_root_mean_squared_error: 318.4976\n",
      "Epoch 10/10\n",
      "100/100 [==============================] - 3s 32ms/step - loss: 1.2703 - mean_absolute_error: 312.2503 - root_mean_squared_error: 314.9217 - val_loss: 1.4275 - val_mean_absolute_error: 315.7161 - val_root_mean_squared_error: 318.4973\n"
     ]
    },
    {
     "output_type": "execute_result",
     "data": {
      "text/plain": [
       "<tensorflow.python.keras.callbacks.History at 0x7f85d4789700>"
      ]
     },
     "metadata": {},
     "execution_count": 30
    }
   ],
   "source": [
    "input_width = 24\n",
    "w1 = WindowGenerator(input_width=input_width, label_width=1, shift=1,\n",
    "                      train_df=train_df, val_df=val_df,\n",
    "                      label_columns=['quantity'])\n",
    "model  = tf.keras.models.Sequential([\n",
    "    tf.keras.layers.Dense(1)\n",
    "])\n",
    "compile_and_fit(model, w1, lr=0.01, max_epochs=10, tensorboard=True)"
   ]
  },
  {
   "cell_type": "code",
   "execution_count": 32,
   "metadata": {},
   "outputs": [
    {
     "output_type": "display_data",
     "data": {
      "text/plain": "ERROR: Could not find `tensorboard`. Please ensure that your PATH\ncontains an executable `tensorboard` program, or explicitly specify\nthe path to a TensorBoard binary by setting the `TENSORBOARD_BINARY`\nenvironment variable."
     },
     "metadata": {}
    }
   ],
   "source": [
    "%tensorboard --logdir logs/fit\n"
   ]
  }
 ]
}
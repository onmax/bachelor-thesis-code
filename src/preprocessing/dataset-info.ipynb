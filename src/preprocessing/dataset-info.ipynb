{
 "metadata": {
  "language_info": {
   "codemirror_mode": {
    "name": "ipython",
    "version": 3
   },
   "file_extension": ".py",
   "mimetype": "text/x-python",
   "name": "python",
   "nbconvert_exporter": "python",
   "pygments_lexer": "ipython3",
   "version": "3.8.5-final"
  },
  "orig_nbformat": 2,
  "kernelspec": {
   "name": "python3",
   "display_name": "Python 3",
   "language": "python"
  }
 },
 "nbformat": 4,
 "nbformat_minor": 2,
 "cells": [
  {
   "cell_type": "code",
   "execution_count": 1,
   "metadata": {},
   "outputs": [],
   "source": [
    "%load_ext autoreload\n",
    "%autoreload 2"
   ]
  },
  {
   "cell_type": "code",
   "execution_count": 2,
   "metadata": {},
   "outputs": [],
   "source": [
    "import pandas as pd\n",
    "from preprocessing_lib import *"
   ]
  },
  {
   "cell_type": "code",
   "execution_count": 7,
   "metadata": {},
   "outputs": [
    {
     "output_type": "stream",
     "name": "stdout",
     "text": [
      "Reading /mnt/f/proyectos/bikes/src/preprocessing/../../data/files/2019/Divvy_Trips_2019_Q1.csv\n",
      "Reading /mnt/f/proyectos/bikes/src/preprocessing/../../data/files/2019/Divvy_Trips_2019_Q2.csv\n",
      "Reading /mnt/f/proyectos/bikes/src/preprocessing/../../data/files/2019/Divvy_Trips_2019_Q3.csv\n",
      "Reading /mnt/f/proyectos/bikes/src/preprocessing/../../data/files/2019/Divvy_Trips_2019_Q4.csv\n"
     ]
    }
   ],
   "source": [
    "year = \"2019\"\n",
    "csv_folder = path_data_for_year(year)\n",
    "csv_names = [\"Divvy_Trips_2019_Q1.csv\", \"Divvy_Trips_2019_Q2.csv\", \"Divvy_Trips_2019_Q3.csv\", \"Divvy_Trips_2019_Q4.csv\"]\n",
    "csv_paths = [f\"{csv_folder}/{f}\" for f in csv_names]\n",
    "df = merge_years(csv_paths, with_starttime=False)"
   ]
  },
  {
   "cell_type": "code",
   "execution_count": 10,
   "metadata": {},
   "outputs": [
    {
     "output_type": "stream",
     "name": "stdout",
     "text": [
      "\\begin{tabular}{lrllrlrlrlllr}\n\\toprule\n{} &   trip\\_id &           start\\_time &             end\\_time &  bikeid & tripduration &  from\\_station\\_id &           from\\_station\\_name &  to\\_station\\_id &                to\\_station\\_name &    usertype &  gender &  birthyear \\\\\n\\midrule\n201538  &  25433788 &  2019-10-15 17:50:53 &  2019-10-15 18:01:54 &    5697 &        660.0 &              287 &     Franklin St \\& Monroe St &            195 &      Columbus Dr \\& Randolph St &  Subscriber &    Male &     1992.0 \\\\\n787499  &  24332992 &  2019-08-12 06:22:06 &  2019-08-12 06:25:27 &     732 &        201.0 &              346 &    Ada St \\& Washington Blvd &            233 &  Sangamon St \\& Washington Blvd &  Subscriber &    Male &     1973.0 \\\\\n1604292 &  25185407 &  2019-09-27 18:38:09 &  2019-09-27 18:51:13 &    5280 &        784.0 &              287 &     Franklin St \\& Monroe St &             84 &      Milwaukee Ave \\& Grand Ave &  Subscriber &  Female &     1987.0 \\\\\n485683  &  22751731 &  2019-05-21 17:27:25 &  2019-05-21 17:41:35 &    1826 &        850.0 &              350 &   Ashland Ave \\& Chicago Ave &            212 &          Wells St \\& Hubbard St &  Subscriber &    Male &     1991.0 \\\\\n372034  &  22616646 &  2019-05-11 09:56:10 &  2019-05-11 10:09:39 &    4798 &        809.0 &              333 &  Ashland Ave \\& Blackhawk St &            176 &              Clark St \\& Elm St &  Subscriber &    Male &     1993.0 \\\\\n\\bottomrule\n\\end{tabular}\n\n"
     ]
    }
   ],
   "source": [
    "print(df.sample(5).to_latex())"
   ]
  }
 ]
}
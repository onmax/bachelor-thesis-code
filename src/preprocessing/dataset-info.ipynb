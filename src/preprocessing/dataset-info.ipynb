{
 "cells": [
  {
   "cell_type": "code",
   "execution_count": 8,
   "metadata": {},
   "outputs": [],
   "source": [
    "%load_ext autoreload\n",
    "%autoreload 2"
   ]
  },
  {
   "cell_type": "code",
   "execution_count": 11,
   "metadata": {},
   "outputs": [],
   "source": [
    "import pandas as pd\n",
    "from preprocessing_lib import *\n",
    "from dataset_lib import *"
   ]
  },
  {
   "cell_type": "code",
   "execution_count": 2,
   "metadata": {},
   "outputs": [
    {
     "name": "stdout",
     "output_type": "stream",
     "text": [
      "Reading /mnt/f/proyectos/bikes/src/preprocessing/../../data/files/2019/Divvy_Trips_2019_Q1.csv\n",
      "Reading /mnt/f/proyectos/bikes/src/preprocessing/../../data/files/2019/Divvy_Trips_2019_Q2.csv\n",
      "Reading /mnt/f/proyectos/bikes/src/preprocessing/../../data/files/2019/Divvy_Trips_2019_Q3.csv\n",
      "Reading /mnt/f/proyectos/bikes/src/preprocessing/../../data/files/2019/Divvy_Trips_2019_Q4.csv\n"
     ]
    }
   ],
   "source": [
    "year = \"2019\"\n",
    "csv_folder = path_data_for_year(year)\n",
    "csv_names = [\"Divvy_Trips_2019_Q1.csv\", \"Divvy_Trips_2019_Q2.csv\", \"Divvy_Trips_2019_Q3.csv\", \"Divvy_Trips_2019_Q4.csv\"]\n",
    "csv_paths = [f\"{csv_folder}/{f}\" for f in csv_names]\n",
    "df = merge_years(csv_paths, with_starttime=False)"
   ]
  },
  {
   "cell_type": "code",
   "execution_count": 7,
   "metadata": {},
   "outputs": [
    {
     "data": {
      "text/plain": "Index(['trip_id', 'start_time', 'end_time', 'bikeid', 'tripduration',\n       'from_station_id', 'from_station_name', 'to_station_id',\n       'to_station_name', 'usertype', 'gender', 'birthyear'],\n      dtype='object')"
     },
     "execution_count": 7,
     "metadata": {},
     "output_type": "execute_result"
    }
   ],
   "source": [
    "df.columns"
   ]
  },
  {
   "cell_type": "code",
   "execution_count": 12,
   "metadata": {},
   "outputs": [
    {
     "name": "stdout",
     "output_type": "stream",
     "text": [
      "\\begin{tabular}{lllrlrllr}\n",
      "\\toprule\n",
      "          start\\_time &             end\\_time & tripduration &  from\\_station\\_id &                     from\\_station\\_name &  to\\_station\\_id &                       to\\_station\\_name &  gender &  birthyear \\\\\n",
      "\\midrule\n",
      " 2019-09-23 16:48:09 &  2019-09-23 17:01:57 &        828.0 &               44 &                State St \\& Randolph St &             21 &            Aberdeen St \\& Jackson Blvd &     NaN &        NaN \\\\\n",
      " 2019-08-19 18:18:41 &  2019-08-19 18:29:20 &        639.0 &              287 &               Franklin St \\& Monroe St &            110 &                 Dearborn St \\& Erie St &    Male &     1990.0 \\\\\n",
      " 2019-01-08 08:42:22 &  2019-01-08 08:53:58 &        696.0 &               66 &                  Clinton St \\& Lake St &            161 &                 Rush St \\& Superior St &    Male &     1971.0 \\\\\n",
      " 2019-05-18 13:27:52 &  2019-05-18 13:53:41 &      1,549.0 &               94 &               Clark St \\& Armitage Ave &             35 &               Streeter Dr \\& Grand Ave &    Male &     1988.0 \\\\\n",
      " 2019-03-01 07:04:37 &  2019-03-01 07:12:09 &        452.0 &              174 &                 Canal St \\& Madison St &             48 &            Larrabee St \\& Kingsbury St &    Male &     1966.0 \\\\\n",
      " 2019-03-13 18:13:48 &  2019-03-13 18:17:25 &        217.0 &              210 &             Ashland Ave \\& Division St &            130 &               Damen Ave \\& Division St &    Male &     1995.0 \\\\\n",
      " 2019-08-11 20:05:13 &  2019-08-11 20:14:25 &        552.0 &               93 &             Sheffield Ave \\& Willow St &            143 &             Sedgwick St \\& Webster Ave &  Female &     1995.0 \\\\\n",
      " 2019-01-24 16:50:10 &  2019-01-24 17:21:20 &      1,870.0 &              525 &              Glenwood Ave \\& Touhy Ave &            243 &           Lincoln Ave \\& Sunnyside Ave &  Female &     1986.0 \\\\\n",
      " 2019-07-27 13:19:12 &  2019-07-27 13:33:34 &        862.0 &               72 &                  Wabash Ave \\& 16th St &            197 &             Michigan Ave \\& Madison St &    Male &     1995.0 \\\\\n",
      " 2019-07-31 21:52:44 &  2019-07-31 22:22:41 &      1,796.0 &               52 &                Michigan Ave \\& Lake St &             58 &          Marshfield Ave \\& Cortland St &     NaN &        NaN \\\\\n",
      " 2019-05-14 10:38:31 &  2019-05-14 10:44:45 &        374.0 &              236 &             Sedgwick St \\& Schiller St &             48 &            Larrabee St \\& Kingsbury St &    Male &     1986.0 \\\\\n",
      " 2019-06-16 19:25:32 &  2019-06-16 19:40:59 &        927.0 &               85 &                 Michigan Ave \\& Oak St &            224 &                Halsted St \\& Willow St &    Male &     1988.0 \\\\\n",
      " 2019-06-10 12:18:33 &  2019-06-10 12:24:33 &        360.0 &               38 &                    Clark St \\& Lake St &            197 &             Michigan Ave \\& Madison St &    Male &     1993.0 \\\\\n",
      " 2019-12-12 09:55:38 &  2019-12-12 10:21:01 &      1,522.0 &              296 &                Broadway \\& Belmont Ave &             69 &                Damen Ave \\& Pierce Ave &     NaN &        NaN \\\\\n",
      " 2019-09-09 09:07:44 &  2019-09-09 09:25:01 &      1,036.0 &               26 &              McClurg Ct \\& Illinois St &            620 &  Orleans St \\& Chestnut St (NEXT Apts) &  Female &     1992.0 \\\\\n",
      " 2019-07-04 09:15:21 &  2019-07-04 10:26:40 &      4,279.0 &               99 &               Lake Shore Dr \\& Ohio St &              6 &                        Dusable Harbor &  Female &     1992.0 \\\\\n",
      " 2019-11-26 08:21:39 &  2019-11-26 08:34:49 &        790.0 &              376 &             Artesian Ave \\& Hubbard St &            217 &        Elizabeth (May) St \\& Fulton St &  Female &     1980.0 \\\\\n",
      " 2019-07-22 08:09:05 &  2019-07-22 08:16:59 &        473.0 &              138 &            Clybourn Ave \\& Division St &            133 &              Kingsbury St \\& Kinzie St &    Male &     1984.0 \\\\\n",
      " 2019-05-10 18:43:10 &  2019-05-10 18:51:40 &        510.0 &               99 &               Lake Shore Dr \\& Ohio St &            180 &                 Ritchie Ct \\& Banks St &     NaN &        NaN \\\\\n",
      " 2019-04-05 09:38:21 &  2019-04-05 09:48:30 &        609.0 &               46 &                  Wells St \\& Walton St &            287 &               Franklin St \\& Monroe St &    Male &     1992.0 \\\\\n",
      " 2019-07-22 16:50:47 &  2019-07-22 17:01:03 &        616.0 &               91 &          Clinton St \\& Washington Blvd &             19 &        Throop (Loomis) St \\& Taylor St &    Male &     1997.0 \\\\\n",
      " 2019-06-03 21:09:36 &  2019-06-03 21:41:00 &      1,884.0 &              276 &            California Ave \\& North Ave &            316 &             Damen Ave \\& Sunnyside Ave &    Male &     1976.0 \\\\\n",
      " 2019-08-01 19:20:36 &  2019-08-01 19:40:00 &      1,164.0 &              130 &               Damen Ave \\& Division St &            124 &              Damen Ave \\& Cullerton St &  Female &     1990.0 \\\\\n",
      " 2019-07-17 16:24:52 &  2019-07-17 16:39:45 &        893.0 &              157 &        Lake Shore Dr \\& Wellington Ave &            268 &            Lake Shore Dr \\& North Blvd &    Male &     1997.0 \\\\\n",
      " 2019-10-09 15:58:44 &  2019-10-09 16:09:00 &        616.0 &              129 &             Blue Island Ave \\& 18th St &            281 &                 Western Ave \\& 24th St &    Male &     1988.0 \\\\\n",
      " 2019-04-08 11:34:37 &  2019-04-08 11:46:25 &        708.0 &               25 &             Michigan Ave \\& Pearson St &            196 &       Cityfront Plaza Dr \\& Pioneer Ct &    Male &     1965.0 \\\\\n",
      " 2019-06-11 17:40:58 &  2019-06-11 18:13:44 &      1,966.0 &               43 &          Michigan Ave \\& Washington St &            254 &       Pine Grove Ave \\& Irving Park Rd &     NaN &        NaN \\\\\n",
      " 2019-05-25 05:47:49 &  2019-05-25 06:04:43 &      1,014.0 &               66 &                  Clinton St \\& Lake St &             97 &                          Field Museum &    Male &     1976.0 \\\\\n",
      " 2019-08-18 11:29:24 &  2019-08-18 11:51:34 &      1,330.0 &              199 &                Wabash Ave \\& Grand Ave &            161 &                 Rush St \\& Superior St &  Female &     1964.0 \\\\\n",
      " 2019-09-10 08:31:13 &  2019-09-10 08:37:56 &        403.0 &               85 &                 Michigan Ave \\& Oak St &            194 &                Wabash Ave \\& Wacker Pl &    Male &     1993.0 \\\\\n",
      " 2019-10-25 15:59:12 &  2019-10-25 16:07:03 &        471.0 &              211 &                St. Clair St \\& Erie St &            636 &               Orleans St \\& Hubbard St &  Female &     1981.0 \\\\\n",
      " 2019-08-13 16:01:17 &  2019-08-13 16:05:56 &        279.0 &              121 &       Blackstone Ave \\& Hyde Park Blvd &            418 &                   Ellis Ave \\& 53rd St &    Male &     1966.0 \\\\\n",
      " 2019-07-08 20:05:44 &  2019-07-08 20:13:38 &        473.0 &              156 &             Clark St \\& Wellington Ave &            131 &             Lincoln Ave \\& Belmont Ave &    Male &     1984.0 \\\\\n",
      " 2019-08-11 13:15:22 &  2019-08-11 13:18:36 &        194.0 &               94 &               Clark St \\& Armitage Ave &            289 &                 Wells St \\& Concord Ln &    Male &     1990.0 \\\\\n",
      " 2019-03-12 13:50:21 &  2019-03-12 13:54:03 &        222.0 &               32 &            Racine Ave \\& Congress Pkwy &             22 &                    May St \\& Taylor St &    Male &     1993.0 \\\\\n",
      " 2019-12-07 08:29:06 &  2019-12-07 08:46:15 &      1,028.0 &              141 &                Clark St \\& Lincoln Ave &            347 &                Ashland Ave \\& Grace St &    Male &     1991.0 \\\\\n",
      " 2019-10-03 18:58:44 &  2019-10-03 19:22:45 &      1,440.0 &              365 &          Halsted St \\& North Branch St &            117 &              Wilton Ave \\& Belmont Ave &    Male &     1987.0 \\\\\n",
      " 2019-12-29 10:48:05 &  2019-12-29 10:58:48 &        642.0 &              299 &                Halsted St \\& Roscoe St &            220 &                Clark St \\& Drummond Pl &    Male &     1983.0 \\\\\n",
      " 2019-07-07 00:04:09 &  2019-07-07 00:24:27 &      1,218.0 &              291 &              Wells St \\& Evergreen Ave &              7 &           Field Blvd \\& South Water St &    Male &     1989.0 \\\\\n",
      " 2019-11-06 08:27:59 &  2019-11-06 08:33:24 &        325.0 &              190 &        Southport Ave \\& Wrightwood Ave &             67 &         Sheffield Ave \\& Fullerton Ave &  Female &     1993.0 \\\\\n",
      " 2019-04-13 19:10:09 &  2019-04-13 19:16:08 &        359.0 &              627 &             LaSalle Dr \\& Huron St (*) &             23 &               Orleans St \\& Elm St (*) &  Female &     1976.0 \\\\\n",
      " 2019-09-11 07:52:42 &  2019-09-11 08:05:43 &        781.0 &              331 &             Halsted St \\& Clybourn Ave &             48 &            Larrabee St \\& Kingsbury St &    Male &     1979.0 \\\\\n",
      " 2019-07-10 18:28:05 &  2019-07-10 18:57:29 &      1,764.0 &              268 &            Lake Shore Dr \\& North Blvd &             29 &              Noble St \\& Milwaukee Ave &    Male &     1996.0 \\\\\n",
      " 2019-08-09 10:48:54 &  2019-08-09 12:06:15 &      4,640.0 &              623 &                 Michigan Ave \\& 8th St &            268 &            Lake Shore Dr \\& North Blvd &     NaN &        NaN \\\\\n",
      " 2019-08-08 05:39:47 &  2019-08-08 05:45:06 &        319.0 &              283 &             LaSalle St \\& Jackson Blvd &             47 &                  State St \\& Kinzie St &    Male &     1975.0 \\\\\n",
      " 2019-06-07 17:48:11 &  2019-06-07 18:04:44 &        993.0 &              144 &             Larrabee St \\& Webster Ave &            230 &               Lincoln Ave \\& Roscoe St &    Male &     1989.0 \\\\\n",
      " 2019-07-30 07:51:29 &  2019-07-30 08:06:40 &        910.0 &               13 &            Wilton Ave \\& Diversey Pkwy &            359 &             Larrabee St \\& Division St &  Female &     1991.0 \\\\\n",
      " 2019-11-29 14:14:22 &  2019-12-03 20:45:36 &    369,074.0 &              343 &           Racine Ave \\& Wrightwood Ave &             67 &         Sheffield Ave \\& Fullerton Ave &  Female &     1960.0 \\\\\n",
      " 2019-11-22 09:42:12 &  2019-11-22 10:16:53 &      2,080.0 &              131 &             Lincoln Ave \\& Belmont Ave &            283 &             LaSalle St \\& Jackson Blvd &    Male &     1976.0 \\\\\n",
      " 2019-07-25 16:56:04 &  2019-07-25 16:58:51 &        166.0 &               36 &            Franklin St \\& Jackson Blvd &             68 &                Clinton St \\& Tilden St &    Male &     1968.0 \\\\\n",
      " 2019-04-13 09:13:59 &  2019-04-13 09:16:34 &        155.0 &              229 &             Southport Ave \\& Roscoe St &            227 &          Southport Ave \\& Waveland Ave &  Female &     1984.0 \\\\\n",
      " 2019-08-25 11:03:24 &  2019-08-25 11:37:46 &      2,062.0 &               90 &                       Millennium Park &             35 &               Streeter Dr \\& Grand Ave &     NaN &        NaN \\\\\n",
      " 2019-04-05 16:46:32 &  2019-04-05 17:00:32 &        840.0 &               68 &                Clinton St \\& Tilden St &            138 &            Clybourn Ave \\& Division St &    Male &     1990.0 \\\\\n",
      " 2019-11-24 20:03:18 &  2019-11-24 20:08:39 &        320.0 &              419 &               Lake Park Ave \\& 53rd St &            322 &                 Kimbark Ave \\& 53rd St &    Male &     1995.0 \\\\\n",
      " 2019-06-20 18:16:05 &  2019-06-20 18:23:50 &        465.0 &              287 &               Franklin St \\& Monroe St &             90 &                       Millennium Park &    Male &     1981.0 \\\\\n",
      " 2019-06-14 16:29:10 &  2019-06-14 16:40:44 &        694.0 &              182 &                     Wells St \\& Elm St &            329 &         Lake Shore Dr \\& Diversey Pkwy &    Male &     1992.0 \\\\\n",
      " 2019-04-26 14:36:59 &  2019-04-26 15:31:05 &      3,246.0 &              577 &  Stony Island Ave \\& South Chicago Ave &             11 &                Jeffery Blvd \\& 71st St &  Female &     1992.0 \\\\\n",
      " 2019-06-10 17:36:08 &  2019-06-10 17:50:58 &        890.0 &              283 &             LaSalle St \\& Jackson Blvd &            182 &                     Wells St \\& Elm St &    Male &     1996.0 \\\\\n",
      " 2019-08-18 14:41:50 &  2019-08-18 14:51:00 &        549.0 &              330 &              Lincoln Ave \\& Addison St &            166 &          Ashland Ave \\& Wrightwood Ave &    Male &     1988.0 \\\\\n",
      " 2019-05-03 06:07:25 &  2019-05-03 06:16:04 &        519.0 &               23 &               Orleans St \\& Elm St (*) &            164 &                 Franklin St \\& Lake St &    Male &     1977.0 \\\\\n",
      "\\bottomrule\n",
      "\\end{tabular}\n",
      "\n"
     ]
    }
   ],
   "source": [
    "dfc = df.drop(columns=[\"trip_id\", \"bikeid\", \"usertype\"])\n",
    "print(dfc.sample(60).to_latex(index=False))"
   ]
  },
  {
   "cell_type": "code",
   "execution_count": 22,
   "metadata": {},
   "outputs": [
    {
     "name": "stdout",
     "output_type": "stream",
     "text": [
      "Training from 2017-01-01 00:00:00 to 2017-12-31 23:00:00\n",
      "Validating from 2018-01-01 00:00:00 to 2018-12-31 23:00:00\n",
      "Testing from 2019-01-01 00:00:00 to 2019-12-31 23:00:00\n",
      "\\begin{tabular}{lrrrrrrrrr}\n",
      "\\toprule\n",
      "{} &  hour &  day\\_of\\_week &  month &  quantity\\_1 &  quantity\\_2 &  quantity\\_3 &  quantity\\_4 &  quantity\\_631 &  quantity\\_632 \\\\\n",
      "start\\_time          &       &              &        &             &             &             &             &               &               \\\\\n",
      "\\midrule\n",
      "2017-09-22 03:00:00 &     3 &            5 &      9 &         0.0 &         0.0 &         0.0 &         0.0 &           0.0 &           0.0 \\\\\n",
      "2017-01-10 00:00:00 &     0 &            2 &      1 &         0.0 &         0.0 &         1.0 &         0.0 &           0.0 &           0.0 \\\\\n",
      "2017-12-01 01:00:00 &     1 &            5 &     12 &         0.0 &         0.0 &         0.0 &         0.0 &           0.0 &           0.0 \\\\\n",
      "2017-01-02 17:00:00 &    17 &            1 &      1 &         0.0 &         0.0 &         0.0 &         0.0 &           0.0 &           0.0 \\\\\n",
      "2017-11-01 14:00:00 &    14 &            3 &     11 &         0.0 &         0.0 &         4.0 &         1.0 &           0.0 &           0.0 \\\\\n",
      "2017-01-23 03:00:00 &     3 &            1 &      1 &         0.0 &         0.0 &         0.0 &         0.0 &           0.0 &           0.0 \\\\\n",
      "2017-11-12 16:00:00 &    16 &            7 &     11 &         0.0 &         0.0 &         0.0 &         0.0 &           0.0 &           0.0 \\\\\n",
      "2017-12-25 12:00:00 &    12 &            1 &     12 &         0.0 &         0.0 &         0.0 &         0.0 &           0.0 &           0.0 \\\\\n",
      "2017-02-01 00:00:00 &     0 &            3 &      2 &         0.0 &         0.0 &         0.0 &         0.0 &           0.0 &           0.0 \\\\\n",
      "2017-03-04 08:00:00 &     8 &            6 &      3 &         0.0 &         0.0 &         0.0 &         1.0 &           0.0 &           0.0 \\\\\n",
      "2017-03-25 20:00:00 &    20 &            6 &      3 &         0.0 &         0.0 &         0.0 &         0.0 &           0.0 &           0.0 \\\\\n",
      "2017-06-08 07:00:00 &     7 &            4 &      6 &         0.0 &         4.0 &         0.0 &         4.0 &           0.0 &           0.0 \\\\\n",
      "2017-09-30 19:00:00 &    19 &            6 &      9 &         0.0 &         8.0 &         2.0 &         1.0 &           0.0 &           0.0 \\\\\n",
      "2017-08-22 21:00:00 &    21 &            2 &      8 &         0.0 &         0.0 &         2.0 &         1.0 &           0.0 &           0.0 \\\\\n",
      "2017-02-22 08:00:00 &     8 &            3 &      2 &         0.0 &         0.0 &         0.0 &         0.0 &           0.0 &           0.0 \\\\\n",
      "2017-07-05 18:00:00 &    18 &            3 &      7 &         0.0 &         3.0 &        17.0 &        10.0 &           0.0 &           0.0 \\\\\n",
      "2017-07-21 11:00:00 &    11 &            5 &      7 &         0.0 &         1.0 &         5.0 &         5.0 &           0.0 &           0.0 \\\\\n",
      "2017-07-27 00:00:00 &     0 &            4 &      7 &         0.0 &         0.0 &         0.0 &         0.0 &           0.0 &           0.0 \\\\\n",
      "2017-12-09 21:00:00 &    21 &            6 &     12 &         0.0 &         0.0 &         0.0 &         0.0 &           0.0 &           0.0 \\\\\n",
      "2017-04-16 06:00:00 &     6 &            7 &      4 &         0.0 &         0.0 &         0.0 &         0.0 &           0.0 &           0.0 \\\\\n",
      "2017-02-27 13:00:00 &    13 &            1 &      2 &         0.0 &         1.0 &         3.0 &         0.0 &           0.0 &           0.0 \\\\\n",
      "2017-10-25 02:00:00 &     2 &            3 &     10 &         0.0 &         0.0 &         0.0 &         0.0 &           0.0 &           0.0 \\\\\n",
      "2017-12-26 18:00:00 &    18 &            2 &     12 &         0.0 &         0.0 &         0.0 &         0.0 &           0.0 &           0.0 \\\\\n",
      "2017-10-29 07:00:00 &     7 &            7 &     10 &         0.0 &         0.0 &         0.0 &         0.0 &           0.0 &           0.0 \\\\\n",
      "2017-01-20 11:00:00 &    11 &            5 &      1 &         0.0 &         0.0 &         1.0 &         1.0 &           0.0 &           0.0 \\\\\n",
      "2017-06-08 03:00:00 &     3 &            4 &      6 &         0.0 &         0.0 &         0.0 &         0.0 &           0.0 &           0.0 \\\\\n",
      "2017-10-29 06:00:00 &     6 &            7 &     10 &         0.0 &         0.0 &         0.0 &         0.0 &           0.0 &           0.0 \\\\\n",
      "2017-11-25 11:00:00 &    11 &            6 &     11 &         0.0 &         0.0 &         2.0 &         8.0 &           0.0 &           0.0 \\\\\n",
      "2017-06-06 09:00:00 &     9 &            2 &      6 &         0.0 &         3.0 &         1.0 &        10.0 &           0.0 &           0.0 \\\\\n",
      "2017-03-16 22:00:00 &    22 &            4 &      3 &         0.0 &         3.0 &         0.0 &         0.0 &           0.0 &           0.0 \\\\\n",
      "2017-11-06 10:00:00 &    10 &            1 &     11 &         0.0 &         4.0 &         0.0 &         0.0 &           0.0 &           0.0 \\\\\n",
      "2017-06-11 17:00:00 &    17 &            7 &      6 &         0.0 &        11.0 &        21.0 &        10.0 &           0.0 &           0.0 \\\\\n",
      "2017-07-21 18:00:00 &    18 &            5 &      7 &         0.0 &         0.0 &         3.0 &         2.0 &           0.0 &           0.0 \\\\\n",
      "2017-05-25 11:00:00 &    11 &            4 &      5 &         0.0 &         0.0 &         6.0 &         0.0 &           0.0 &           0.0 \\\\\n",
      "2017-03-02 01:00:00 &     1 &            4 &      3 &         0.0 &         0.0 &         0.0 &         0.0 &           0.0 &           0.0 \\\\\n",
      "2017-12-21 06:00:00 &     6 &            4 &     12 &         0.0 &         0.0 &         0.0 &         0.0 &           0.0 &           0.0 \\\\\n",
      "2017-01-07 06:00:00 &     6 &            6 &      1 &         0.0 &         0.0 &         0.0 &         0.0 &           0.0 &           0.0 \\\\\n",
      "2017-05-04 13:00:00 &    13 &            4 &      5 &         0.0 &         0.0 &         5.0 &         2.0 &           0.0 &           0.0 \\\\\n",
      "2017-01-25 09:00:00 &     9 &            3 &      1 &         0.0 &         0.0 &         0.0 &         0.0 &           0.0 &           0.0 \\\\\n",
      "2017-11-24 19:00:00 &    19 &            5 &     11 &         0.0 &         0.0 &         0.0 &         0.0 &           0.0 &           0.0 \\\\\n",
      "2017-10-18 16:00:00 &    16 &            3 &     10 &         0.0 &         2.0 &        14.0 &         5.0 &           0.0 &           0.0 \\\\\n",
      "2017-07-14 23:00:00 &    23 &            5 &      7 &         0.0 &         1.0 &         6.0 &         0.0 &           0.0 &           0.0 \\\\\n",
      "2017-08-10 02:00:00 &     2 &            4 &      8 &         0.0 &         0.0 &         0.0 &         0.0 &           0.0 &           0.0 \\\\\n",
      "2017-04-13 00:00:00 &     0 &            4 &      4 &         0.0 &         0.0 &         0.0 &         0.0 &           0.0 &           0.0 \\\\\n",
      "2017-03-23 20:00:00 &    20 &            4 &      3 &         0.0 &         0.0 &         0.0 &         0.0 &           0.0 &           0.0 \\\\\n",
      "2017-09-04 16:00:00 &    16 &            1 &      9 &         0.0 &        21.0 &        20.0 &        10.0 &           0.0 &           0.0 \\\\\n",
      "2017-04-11 09:00:00 &     9 &            2 &      4 &         0.0 &         0.0 &         0.0 &         1.0 &           0.0 &           0.0 \\\\\n",
      "2017-05-25 01:00:00 &     1 &            4 &      5 &         0.0 &         0.0 &         0.0 &         0.0 &           0.0 &           0.0 \\\\\n",
      "2017-01-03 11:00:00 &    11 &            2 &      1 &         0.0 &         1.0 &         1.0 &         0.0 &           0.0 &           0.0 \\\\\n",
      "2017-04-19 00:00:00 &     0 &            3 &      4 &         0.0 &         0.0 &         0.0 &         0.0 &           0.0 &           0.0 \\\\\n",
      "2017-09-27 16:00:00 &    16 &            3 &      9 &         0.0 &         6.0 &        14.0 &         7.0 &           0.0 &           0.0 \\\\\n",
      "2017-02-16 01:00:00 &     1 &            4 &      2 &         0.0 &         0.0 &         0.0 &         0.0 &           0.0 &           0.0 \\\\\n",
      "2017-05-09 19:00:00 &    19 &            2 &      5 &         0.0 &         2.0 &         1.0 &         3.0 &           0.0 &           0.0 \\\\\n",
      "2017-11-26 01:00:00 &     1 &            7 &     11 &         0.0 &         0.0 &         0.0 &         0.0 &           0.0 &           0.0 \\\\\n",
      "2017-08-12 05:00:00 &     5 &            6 &      8 &         0.0 &         0.0 &         0.0 &         0.0 &           0.0 &           0.0 \\\\\n",
      "\\bottomrule\n",
      "\\end{tabular}\n",
      "\n"
     ]
    }
   ],
   "source": [
    "# df = load_dataset(\"\")\n",
    "columns = [\"hour\", \"day_of_week\", \"month\", \"quantity_1\",\"quantity_2\",\"quantity_3\",\"quantity_4\",\"quantity_631\",\"quantity_632\"]\n",
    "train_df, val_df, test_df = split_dataset(df)\n",
    "\n",
    "print(train_df[columns].sample(55).to_latex())\n",
    "\n",
    "\n"
   ]
  }
 ],
 "metadata": {
  "kernelspec": {
   "display_name": "Python 3",
   "language": "python",
   "name": "python3"
  },
  "language_info": {
   "codemirror_mode": {
    "name": "ipython",
    "version": 3
   },
   "file_extension": ".py",
   "mimetype": "text/x-python",
   "name": "python",
   "nbconvert_exporter": "python",
   "pygments_lexer": "ipython3",
   "version": "3.8.3"
  },
  "orig_nbformat": 2
 },
 "nbformat": 4,
 "nbformat_minor": 2
}
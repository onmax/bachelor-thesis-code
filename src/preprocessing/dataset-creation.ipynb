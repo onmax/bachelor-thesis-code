{
  "nbformat": 4,
  "nbformat_minor": 0,
  "metadata": {
    "language_info": {
      "codemirror_mode": {
        "name": "ipython",
        "version": 3
      },
      "file_extension": ".py",
      "mimetype": "text/x-python",
      "name": "python",
      "nbconvert_exporter": "python",
      "pygments_lexer": "ipython3",
      "version": "3.8.5-final"
    },
    "orig_nbformat": 2,
    "kernelspec": {
      "name": "python3",
      "display_name": "Python 3",
      "language": "python"
    },
    "colab": {
      "name": "dataset-creation.ipynb",
      "provenance": [],
      "include_colab_link": true
    }
  },
  "cells": [
    {
      "cell_type": "markdown",
      "metadata": {
        "id": "view-in-github",
        "colab_type": "text"
      },
      "source": [
        "<a href=\"https://colab.research.google.com/github/onmax/bike-forecasting/blob/main/src/preprocessing/dataset-creation.ipynb\" target=\"_parent\"><img src=\"https://colab.research.google.com/assets/colab-badge.svg\" alt=\"Open In Colab\"/></a>"
      ]
    },
    {
      "cell_type": "code",
      "metadata": {
        "colab": {
          "base_uri": "https://localhost:8080/"
        },
        "id": "IClS3VUFVWJ4",
        "outputId": "7a62bf2b-c000-424d-df5b-cbbae4c37466"
      },
      "source": [
        "# Getting the dataset\r\n",
        "!git clone \"https://github.com/onmax/bike-forecasting\"\r\n",
        "%cd bike-forecasting/src/preprocessing"
      ],
      "execution_count": 4,
      "outputs": [
        {
          "output_type": "stream",
          "text": [
            "Cloning into 'bike-forecasting'...\n",
            "remote: Enumerating objects: 45, done.\u001b[K\n",
            "remote: Total 45 (delta 0), reused 0 (delta 0), pack-reused 45\u001b[K\n",
            "Unpacking objects: 100% (45/45), done.\n",
            "Checking out files: 100% (35/35), done.\n",
            "/content/bike-forecasting\n"
          ],
          "name": "stdout"
        }
      ]
    },
    {
      "cell_type": "code",
      "metadata": {
        "colab": {
          "base_uri": "https://localhost:8080/",
          "height": 106
        },
        "id": "lY0TEGWgT1it",
        "outputId": "667d4905-74a0-453a-8da3-6abcef48c37b"
      },
      "source": [
        "import pandas as pd\n",
        "import os\n",
        "import pickle\n",
        "\n",
        "\n",
        "# files got from https://divvy-tripdata.s3.amazonaws.com/index.html. Data folder should look like this\n",
        "'''\n",
        "├── data\n",
        "│   ├── files\n",
        "│   │   ├── 2014\n",
        "│   │   │   └── ...\n",
        "│   │   ├── 2015\n",
        "│   │   │   └── ...\n",
        "│   │   ├── 2016\n",
        "│   │   │   └── ...\n",
        "│   │   ├── 2017\n",
        "│   │   │   └── ...\n",
        "│   │   ├── 2018\n",
        "│   │   │   └── ...\n",
        "│   │   └── 2019\n",
        "│   │       └── ...\n",
        "│   └── raw\n",
        "│       ├── Divvy_Stations_Trips_2014_Q1Q2.zip\n",
        "│       ├── Divvy_Stations_Trips_2014_Q3Q4.zip\n",
        "│       ├── Divvy_Trips_2015-Q1Q2.zip\n",
        "│       ├── Divvy_Trips_2015_Q3Q4.zip\n",
        "│       ├── Divvy_Trips_2016_Q1Q2.zip\n",
        "│       ├── Divvy_Trips_2016_Q3Q4.zip\n",
        "│       ├── Divvy_Trips_2017_Q1Q2.zip\n",
        "│       ├── Divvy_Trips_2017_Q3Q4.zip\n",
        "│       ├── Divvy_Trips_2018_Q1.zip\n",
        "│       ├── Divvy_Trips_2018_Q2.zip\n",
        "│       ├── Divvy_Trips_2018_Q3.zip\n",
        "│       ├── Divvy_Trips_2018_Q4.zip\n",
        "│       ├── Divvy_Trips_2019_Q1.zip\n",
        "│       ├── Divvy_Trips_2019_Q2.zip\n",
        "│       ├── Divvy_Trips_2019_Q3.zip\n",
        "│       └── Divvy_Trips_2019_Q4.zip\n",
        "└── src \n",
        "    └── ...\n",
        "'''"
      ],
      "execution_count": 1,
      "outputs": [
        {
          "output_type": "execute_result",
          "data": {
            "text/plain": [
              "'\\n├── data\\n│\\xa0\\xa0 ├── files\\n│\\xa0\\xa0 │\\xa0\\xa0 ├── 2014\\n│\\xa0\\xa0 │\\xa0\\xa0 │   └── ...\\n│\\xa0\\xa0 │\\xa0\\xa0 ├── 2015\\n│\\xa0\\xa0 │\\xa0\\xa0 │   └── ...\\n│\\xa0\\xa0 │\\xa0\\xa0 ├── 2016\\n│\\xa0\\xa0 │\\xa0\\xa0 │   └── ...\\n│\\xa0\\xa0 │\\xa0\\xa0 ├── 2017\\n│\\xa0\\xa0 │\\xa0\\xa0 │   └── ...\\n│\\xa0\\xa0 │\\xa0\\xa0 ├── 2018\\n│\\xa0\\xa0 │\\xa0\\xa0 │   └── ...\\n│\\xa0\\xa0 │\\xa0\\xa0 └── 2019\\n│\\xa0\\xa0 │\\xa0\\xa0     └── ...\\n│\\xa0\\xa0 └── raw\\n│\\xa0\\xa0     ├── Divvy_Stations_Trips_2014_Q1Q2.zip\\n│\\xa0\\xa0     ├── Divvy_Stations_Trips_2014_Q3Q4.zip\\n│\\xa0\\xa0     ├── Divvy_Trips_2015-Q1Q2.zip\\n│\\xa0\\xa0     ├── Divvy_Trips_2015_Q3Q4.zip\\n│\\xa0\\xa0     ├── Divvy_Trips_2016_Q1Q2.zip\\n│\\xa0\\xa0     ├── Divvy_Trips_2016_Q3Q4.zip\\n│\\xa0\\xa0     ├── Divvy_Trips_2017_Q1Q2.zip\\n│\\xa0\\xa0     ├── Divvy_Trips_2017_Q3Q4.zip\\n│\\xa0\\xa0     ├── Divvy_Trips_2018_Q1.zip\\n│\\xa0\\xa0     ├── Divvy_Trips_2018_Q2.zip\\n│\\xa0\\xa0     ├── Divvy_Trips_2018_Q3.zip\\n│\\xa0\\xa0     ├── Divvy_Trips_2018_Q4.zip\\n│\\xa0\\xa0     ├── Divvy_Trips_2019_Q1.zip\\n│\\xa0\\xa0     ├── Divvy_Trips_2019_Q2.zip\\n│\\xa0\\xa0     ├── Divvy_Trips_2019_Q3.zip\\n│\\xa0\\xa0     └── Divvy_Trips_2019_Q4.zip\\n└── src \\n    └── ...\\n'"
            ]
          },
          "metadata": {},
          "execution_count": 1
        }
      ]
    },
    {
      "cell_type": "code",
      "metadata": {
        "id": "adkIkww0T1i4"
      },
      "source": [
        "def path():\n",
        "    current_path = os.getcwd()\n",
        "    return f\"{current_path}/../../data/files\"\n",
        "\n",
        "def data_path(year):\n",
        "    return f\"{path()}/{year}\"\n",
        "\n",
        "def get_csvs(years):\n",
        "    current_path = path()\n",
        "    paths = []\n",
        "    for year in years:\n",
        "        pickle_path = f\"{current_path}/{year}/trips-{year}.csv\"\n",
        "        paths.append(pickle_path)\n",
        "    return paths\n",
        "\n",
        "def merge_csv(inputs, output, year, cols):\n",
        "    df = pd.DataFrame()\n",
        "    for input in inputs:\n",
        "        print(f\"Reading {input}\")\n",
        "        df_temp = pd.read_csv(input)\n",
        "        df_temp[cols[0]] = pd.to_datetime(df_temp[cols[0]], format='%Y-%m-%d %H:%M:%S', infer_datetime_format=True)\n",
        "        df = pd.concat([df, df_temp], join='outer')\n",
        "    output_file = f\"{output}/trips-{year}.csv\"\n",
        "    print(f\"Writing {output_file}\")\n",
        "    df[cols].to_csv(output_file,index=False)\n",
        "\n",
        "def merge_years(inputs):\n",
        "    df = pd.DataFrame()\n",
        "    for input in inputs:\n",
        "        print(f\"Reading {input}\")\n",
        "        df_temp = pd.read_csv(input)\n",
        "        df = pd.concat([df, df_temp], join='outer')\n",
        "    df['start_time'] = df['start_time'].combine_first(df['starttime'])\n",
        "    df = df.drop(columns=[\"starttime\"])\n",
        "    return df\n",
        "\n",
        "def save_with_split(df, dest_folder, write_size):\n",
        "    # Make a destination folder if it doesn't exist yet\n",
        "    if not os.path.exists(dest_folder):\n",
        "        os.mkdir(dest_folder)\n",
        "    else:\n",
        "        # Otherwise clean out all files in the destination folder\n",
        "        for file in os.listdir(dest_folder):\n",
        "            os.remove(os.path.join(dest_folder, file))\n",
        "    partnum = 0\n",
        "\n",
        "    df.to_csv(f\"{path()}/group.csv\")\n",
        "    \n",
        "    with open(f\"{path()}/group.csv\", 'rb') as input:\n",
        "        while True:\n",
        "            chunk = input.read(write_size)\n",
        "            if not chunk:\n",
        "                # End the loop if we have hit EOF\n",
        "                break\n",
        "            partnum += 1\n",
        "\n",
        "            print(f\"Writing {dest_folder}/chicago-divvy-trips-part-{partnum}\")\n",
        "            # Create a new file name\n",
        "            with open(f\"{dest_folder}/chicago-divvy-trips-part-{partnum}\", 'wb') as fd:\n",
        "                fd.write(chunk)\n",
        "\n",
        "def join(output_file, parts):\n",
        "  with open(output_file, 'wb') as output:\n",
        "    for part in parts:\n",
        "        with open(part, 'rb') as input_file:\n",
        "          print(f\"Putting together {part}\")\n",
        "          output.write(input_file.read())"
      ],
      "execution_count": 42,
      "outputs": []
    },
    {
      "cell_type": "code",
      "metadata": {
        "id": "N8qjKo6cT1i4",
        "outputId": "7f6f0940-1780-40a9-c7e4-07ad0512ea19"
      },
      "source": [
        "year = \"2014\"\n",
        "csv_folder = data_path(year)\n",
        "csv_names = [\"Divvy_Trips_2014_Q1Q2.csv\", \"Divvy_Trips_2014-Q3-07.csv\", \"Divvy_Trips_2014-Q3-0809.csv\", \"Divvy_Trips_2014-Q4.csv\"]\n",
        "csv_paths = [f\"{csv_folder}/{f}\" for f in csv_names]\n",
        "merge_csv(csv_paths, csv_folder, year, [\"starttime\", \"from_station_id\", \"from_station_name\"])"
      ],
      "execution_count": 24,
      "outputs": [
        {
          "output_type": "stream",
          "name": "stdout",
          "text": [
            "Reading /mnt/f/proyectos/bikes/src/preprocessing/../../data/files/2014/Divvy_Trips_2014_Q1Q2.csv\n",
            "Reading /mnt/f/proyectos/bikes/src/preprocessing/../../data/files/2014/Divvy_Trips_2014-Q3-07.csv\n",
            "Reading /mnt/f/proyectos/bikes/src/preprocessing/../../data/files/2014/Divvy_Trips_2014-Q3-0809.csv\n",
            "Reading /mnt/f/proyectos/bikes/src/preprocessing/../../data/files/2014/Divvy_Trips_2014-Q4.csv\n",
            "Writing /mnt/f/proyectos/bikes/src/preprocessing/../../data/files/2014/trips-2014.csv\n"
          ]
        }
      ]
    },
    {
      "cell_type": "code",
      "metadata": {
        "id": "8tL_V4GjT1i5",
        "outputId": "90a2e3dc-97bb-4bbc-a3b4-32baad5eea9d"
      },
      "source": [
        "year = \"2015\"\n",
        "csv_folder = data_path(year)\n",
        "csv_names = [\"Divvy_Trips_2015-Q1.csv\", \"Divvy_Trips_2015-Q2.csv\", \"Divvy_Trips_2015_07.csv\", \"Divvy_Trips_2015_08.csv\", \"Divvy_Trips_2015_09.csv\", \"Divvy_Trips_2015_Q4.csv\"]\n",
        "csv_paths = [f\"{csv_folder}/{f}\" for f in csv_names]\n",
        "merge_csv(csv_paths, csv_folder, year, [\"starttime\", \"from_station_id\", \"from_station_name\"])"
      ],
      "execution_count": 32,
      "outputs": [
        {
          "output_type": "stream",
          "name": "stdout",
          "text": [
            "Reading /mnt/f/proyectos/bikes/src/preprocessing/../../data/files/2015/Divvy_Trips_2015-Q1.csv\n",
            "Reading /mnt/f/proyectos/bikes/src/preprocessing/../../data/files/2015/Divvy_Trips_2015-Q2.csv\n",
            "Reading /mnt/f/proyectos/bikes/src/preprocessing/../../data/files/2015/Divvy_Trips_2015_07.csv\n",
            "Reading /mnt/f/proyectos/bikes/src/preprocessing/../../data/files/2015/Divvy_Trips_2015_08.csv\n",
            "Reading /mnt/f/proyectos/bikes/src/preprocessing/../../data/files/2015/Divvy_Trips_2015_09.csv\n",
            "Reading /mnt/f/proyectos/bikes/src/preprocessing/../../data/files/2015/Divvy_Trips_2015_Q4.csv\n",
            "Writing /mnt/f/proyectos/bikes/src/preprocessing/../../data/files/2015/trips-2015.csv\n"
          ]
        }
      ]
    },
    {
      "cell_type": "code",
      "metadata": {
        "id": "NZNjoGXBT1i5",
        "outputId": "a407a7fc-9436-4d2c-cb29-28901c0d33ee"
      },
      "source": [
        "year = \"2016\"\n",
        "csv_folder = data_path(year)\n",
        "csv_names = [\"Divvy_Trips_2016_Q1.csv\", \"Divvy_Trips_2016_04.csv\", \"Divvy_Trips_2016_05.csv\", \"Divvy_Trips_2016_06.csv\",\"Divvy_Trips_2016_Q3.csv\", \"Divvy_Trips_2016_Q4.csv\"]\n",
        "csv_paths = [f\"{csv_folder}/{f}\" for f in csv_names]\n",
        "merge_csv(csv_paths, csv_folder, year, [\"starttime\", \"from_station_id\", \"from_station_name\"])"
      ],
      "execution_count": 25,
      "outputs": [
        {
          "output_type": "stream",
          "name": "stdout",
          "text": [
            "Reading /mnt/f/proyectos/bikes/src/preprocessing/../../data/files/2016/Divvy_Trips_2016_Q1.csv\n",
            "Reading /mnt/f/proyectos/bikes/src/preprocessing/../../data/files/2016/Divvy_Trips_2016_04.csv\n",
            "Reading /mnt/f/proyectos/bikes/src/preprocessing/../../data/files/2016/Divvy_Trips_2016_05.csv\n",
            "Reading /mnt/f/proyectos/bikes/src/preprocessing/../../data/files/2016/Divvy_Trips_2016_06.csv\n",
            "Reading /mnt/f/proyectos/bikes/src/preprocessing/../../data/files/2016/Divvy_Trips_2016_Q3.csv\n",
            "Reading /mnt/f/proyectos/bikes/src/preprocessing/../../data/files/2016/Divvy_Trips_2016_Q4.csv\n",
            "Writing /mnt/f/proyectos/bikes/src/preprocessing/../../data/files/2016/trips-2016.csv\n"
          ]
        }
      ]
    },
    {
      "cell_type": "code",
      "metadata": {
        "id": "Iq-16dvHT1i6",
        "outputId": "35773af6-9e68-4b57-9d3d-4a8ae1ae7d83"
      },
      "source": [
        "year = \"2017\"\n",
        "csv_folder = data_path(year)\n",
        "csv_names = [\"Divvy_Trips_2017_Q1.csv\", \"Divvy_Trips_2017_Q2.csv\", \"Divvy_Trips_2017_Q3.csv\", \"Divvy_Trips_2017_Q4.csv\"]\n",
        "csv_paths = [f\"{csv_folder}/{f}\" for f in csv_names]\n",
        "merge_csv(csv_paths, csv_folder, year, [\"start_time\", \"from_station_id\", \"from_station_name\"])"
      ],
      "execution_count": 26,
      "outputs": [
        {
          "output_type": "stream",
          "name": "stdout",
          "text": [
            "Reading /mnt/f/proyectos/bikes/src/preprocessing/../../data/files/2017/Divvy_Trips_2017_Q1.csv\n",
            "Reading /mnt/f/proyectos/bikes/src/preprocessing/../../data/files/2017/Divvy_Trips_2017_Q2.csv\n",
            "Reading /mnt/f/proyectos/bikes/src/preprocessing/../../data/files/2017/Divvy_Trips_2017_Q3.csv\n",
            "Reading /mnt/f/proyectos/bikes/src/preprocessing/../../data/files/2017/Divvy_Trips_2017_Q4.csv\n",
            "Writing /mnt/f/proyectos/bikes/src/preprocessing/../../data/files/2017/trips-2017.csv\n"
          ]
        }
      ]
    },
    {
      "cell_type": "code",
      "metadata": {
        "id": "-mouCptGT1i6",
        "outputId": "7c13b3de-fcba-48db-e639-8e086ef97d2f"
      },
      "source": [
        "year = \"2018\"\n",
        "csv_folder = data_path(year)\n",
        "csv_names = [\"Divvy_Trips_2018_Q1.csv\", \"Divvy_Trips_2018_Q2.csv\", \"Divvy_Trips_2018_Q3.csv\", \"Divvy_Trips_2018_Q4.csv\"]\n",
        "csv_paths = [f\"{csv_folder}/{f}\" for f in csv_names]\n",
        "merge_csv(csv_paths, csv_folder, year, [\"start_time\", \"from_station_id\", \"from_station_name\"])"
      ],
      "execution_count": 27,
      "outputs": [
        {
          "output_type": "stream",
          "name": "stdout",
          "text": [
            "Reading /mnt/f/proyectos/bikes/src/preprocessing/../../data/files/2018/Divvy_Trips_2018_Q1.csv\n",
            "Reading /mnt/f/proyectos/bikes/src/preprocessing/../../data/files/2018/Divvy_Trips_2018_Q2.csv\n",
            "Reading /mnt/f/proyectos/bikes/src/preprocessing/../../data/files/2018/Divvy_Trips_2018_Q3.csv\n",
            "Reading /mnt/f/proyectos/bikes/src/preprocessing/../../data/files/2018/Divvy_Trips_2018_Q4.csv\n",
            "Writing /mnt/f/proyectos/bikes/src/preprocessing/../../data/files/2018/trips-2018.csv\n"
          ]
        }
      ]
    },
    {
      "cell_type": "code",
      "metadata": {
        "id": "f35EH-9uT1i7",
        "outputId": "aa12f0b4-d966-44f2-a32a-68dc5b266b38"
      },
      "source": [
        "year = \"2019\"\n",
        "csv_folder = data_path(year)\n",
        "csv_names = [\"Divvy_Trips_2019_Q1.csv\", \"Divvy_Trips_2019_Q2.csv\", \"Divvy_Trips_2019_Q3.csv\", \"Divvy_Trips_2019_Q4.csv\"]\n",
        "csv_paths = [f\"{csv_folder}/{f}\" for f in csv_names]\n",
        "merge_csv(csv_paths, csv_folder, year, [\"start_time\", \"from_station_id\", \"from_station_name\"])"
      ],
      "execution_count": 28,
      "outputs": [
        {
          "output_type": "stream",
          "name": "stdout",
          "text": [
            "Reading /mnt/f/proyectos/bikes/src/preprocessing/../../data/files/2019/Divvy_Trips_2019_Q1.csv\n",
            "Reading /mnt/f/proyectos/bikes/src/preprocessing/../../data/files/2019/Divvy_Trips_2019_Q2.csv\n",
            "Reading /mnt/f/proyectos/bikes/src/preprocessing/../../data/files/2019/Divvy_Trips_2019_Q3.csv\n",
            "Reading /mnt/f/proyectos/bikes/src/preprocessing/../../data/files/2019/Divvy_Trips_2019_Q4.csv\n",
            "Writing /mnt/f/proyectos/bikes/src/preprocessing/../../data/files/2019/trips-2019.csv\n"
          ]
        }
      ]
    },
    {
      "cell_type": "code",
      "execution_count": 33,
      "metadata": {},
      "outputs": [
        {
          "output_type": "stream",
          "name": "stdout",
          "text": [
            "Reading /mnt/f/proyectos/bikes/src/preprocessing/../../data/files/2014/trips-2014.csv\n",
            "Reading /mnt/f/proyectos/bikes/src/preprocessing/../../data/files/2015/trips-2015.csv\n",
            "Reading /mnt/f/proyectos/bikes/src/preprocessing/../../data/files/2016/trips-2016.csv\n",
            "Reading /mnt/f/proyectos/bikes/src/preprocessing/../../data/files/2017/trips-2017.csv\n",
            "Reading /mnt/f/proyectos/bikes/src/preprocessing/../../data/files/2018/trips-2018.csv\n",
            "Reading /mnt/f/proyectos/bikes/src/preprocessing/../../data/files/2019/trips-2019.csv\n"
          ]
        },
        {
          "output_type": "execute_result",
          "data": {
            "text/plain": [
              "         from_station_id            from_station_name           start_time\n",
              "0                    131    Lincoln Ave & Belmont Ave  2014-06-30 23:57:00\n",
              "1                    282      Halsted St & Maxwell St  2014-06-30 23:56:00\n",
              "2                    327  Sheffield Ave & Webster Ave  2014-06-30 23:33:00\n",
              "3                    134     Peoria St & Jackson Blvd  2014-06-30 23:26:00\n",
              "4                    320     Loomis St & Lexington St  2014-06-30 23:16:00\n",
              "...                  ...                          ...                  ...\n",
              "3817999              112       Green St & Randolph St  2019-12-31 23:56:13\n",
              "3818000               90              Millennium Park  2019-12-31 23:56:34\n",
              "3818001              623        Michigan Ave & 8th St  2019-12-31 23:57:05\n",
              "3818002              623        Michigan Ave & 8th St  2019-12-31 23:57:11\n",
              "3818003              256       Broadway & Sheridan Rd  2019-12-31 23:57:17\n",
              "\n",
              "[20483556 rows x 3 columns]"
            ],
            "text/html": "<div>\n<style scoped>\n    .dataframe tbody tr th:only-of-type {\n        vertical-align: middle;\n    }\n\n    .dataframe tbody tr th {\n        vertical-align: top;\n    }\n\n    .dataframe thead th {\n        text-align: right;\n    }\n</style>\n<table border=\"1\" class=\"dataframe\">\n  <thead>\n    <tr style=\"text-align: right;\">\n      <th></th>\n      <th>from_station_id</th>\n      <th>from_station_name</th>\n      <th>start_time</th>\n    </tr>\n  </thead>\n  <tbody>\n    <tr>\n      <th>0</th>\n      <td>131</td>\n      <td>Lincoln Ave &amp; Belmont Ave</td>\n      <td>2014-06-30 23:57:00</td>\n    </tr>\n    <tr>\n      <th>1</th>\n      <td>282</td>\n      <td>Halsted St &amp; Maxwell St</td>\n      <td>2014-06-30 23:56:00</td>\n    </tr>\n    <tr>\n      <th>2</th>\n      <td>327</td>\n      <td>Sheffield Ave &amp; Webster Ave</td>\n      <td>2014-06-30 23:33:00</td>\n    </tr>\n    <tr>\n      <th>3</th>\n      <td>134</td>\n      <td>Peoria St &amp; Jackson Blvd</td>\n      <td>2014-06-30 23:26:00</td>\n    </tr>\n    <tr>\n      <th>4</th>\n      <td>320</td>\n      <td>Loomis St &amp; Lexington St</td>\n      <td>2014-06-30 23:16:00</td>\n    </tr>\n    <tr>\n      <th>...</th>\n      <td>...</td>\n      <td>...</td>\n      <td>...</td>\n    </tr>\n    <tr>\n      <th>3817999</th>\n      <td>112</td>\n      <td>Green St &amp; Randolph St</td>\n      <td>2019-12-31 23:56:13</td>\n    </tr>\n    <tr>\n      <th>3818000</th>\n      <td>90</td>\n      <td>Millennium Park</td>\n      <td>2019-12-31 23:56:34</td>\n    </tr>\n    <tr>\n      <th>3818001</th>\n      <td>623</td>\n      <td>Michigan Ave &amp; 8th St</td>\n      <td>2019-12-31 23:57:05</td>\n    </tr>\n    <tr>\n      <th>3818002</th>\n      <td>623</td>\n      <td>Michigan Ave &amp; 8th St</td>\n      <td>2019-12-31 23:57:11</td>\n    </tr>\n    <tr>\n      <th>3818003</th>\n      <td>256</td>\n      <td>Broadway &amp; Sheridan Rd</td>\n      <td>2019-12-31 23:57:17</td>\n    </tr>\n  </tbody>\n</table>\n<p>20483556 rows × 3 columns</p>\n</div>"
          },
          "metadata": {},
          "execution_count": 33
        }
      ],
      "source": [
        "# Merge all pickles\n",
        "years = list(range(2014, 2020))\n",
        "csvs = get_csvs(years)\n",
        "df = merge_years(csvs)\n",
        "df"
      ]
    },
    {
      "cell_type": "code",
      "metadata": {
        "colab": {
          "base_uri": "https://localhost:8080/",
          "height": 363
        },
        "id": "cB_ATjDrT1i8",
        "outputId": "d4240736-7a84-4aef-b612-020630364f88"
      },
      "source": [
        "# Group trips by hour\n",
        "\n",
        "df[\"start_time\"] = pd.to_datetime(df[\"start_time\"], format='%Y-%m-%d %H:%M:%S')\n",
        "\n",
        "INTERVAL = \"1H\" # It could be also 15Min\n",
        "df = df.groupby('from_station_id').resample(INTERVAL, on='start_time') \\\n",
        "        .size() \\\n",
        "        .to_frame() \\\n",
        "        .rename(columns={0: \"quantity\"}) \\\n",
        "        .reset_index() \\\n",
        "        .set_index(\"start_time\")\n",
        "df\n"
      ],
      "execution_count": 35,
      "outputs": [
        {
          "output_type": "execute_result",
          "data": {
            "text/plain": [
              "                     from_station_id  quantity\n",
              "start_time                                    \n",
              "2019-05-21 14:00:00                1         1\n",
              "2015-05-08 12:00:00                2         7\n",
              "2015-05-08 13:00:00                2         0\n",
              "2015-05-08 14:00:00                2         1\n",
              "2015-05-08 15:00:00                2         2\n",
              "...                              ...       ...\n",
              "2019-12-31 13:00:00              673         0\n",
              "2019-12-31 14:00:00              673         0\n",
              "2019-12-31 15:00:00              673         0\n",
              "2019-12-31 16:00:00              673         0\n",
              "2019-12-31 17:00:00              673         1\n",
              "\n",
              "[26328985 rows x 2 columns]"
            ],
            "text/html": "<div>\n<style scoped>\n    .dataframe tbody tr th:only-of-type {\n        vertical-align: middle;\n    }\n\n    .dataframe tbody tr th {\n        vertical-align: top;\n    }\n\n    .dataframe thead th {\n        text-align: right;\n    }\n</style>\n<table border=\"1\" class=\"dataframe\">\n  <thead>\n    <tr style=\"text-align: right;\">\n      <th></th>\n      <th>from_station_id</th>\n      <th>quantity</th>\n    </tr>\n    <tr>\n      <th>start_time</th>\n      <th></th>\n      <th></th>\n    </tr>\n  </thead>\n  <tbody>\n    <tr>\n      <th>2019-05-21 14:00:00</th>\n      <td>1</td>\n      <td>1</td>\n    </tr>\n    <tr>\n      <th>2015-05-08 12:00:00</th>\n      <td>2</td>\n      <td>7</td>\n    </tr>\n    <tr>\n      <th>2015-05-08 13:00:00</th>\n      <td>2</td>\n      <td>0</td>\n    </tr>\n    <tr>\n      <th>2015-05-08 14:00:00</th>\n      <td>2</td>\n      <td>1</td>\n    </tr>\n    <tr>\n      <th>2015-05-08 15:00:00</th>\n      <td>2</td>\n      <td>2</td>\n    </tr>\n    <tr>\n      <th>...</th>\n      <td>...</td>\n      <td>...</td>\n    </tr>\n    <tr>\n      <th>2019-12-31 13:00:00</th>\n      <td>673</td>\n      <td>0</td>\n    </tr>\n    <tr>\n      <th>2019-12-31 14:00:00</th>\n      <td>673</td>\n      <td>0</td>\n    </tr>\n    <tr>\n      <th>2019-12-31 15:00:00</th>\n      <td>673</td>\n      <td>0</td>\n    </tr>\n    <tr>\n      <th>2019-12-31 16:00:00</th>\n      <td>673</td>\n      <td>0</td>\n    </tr>\n    <tr>\n      <th>2019-12-31 17:00:00</th>\n      <td>673</td>\n      <td>1</td>\n    </tr>\n  </tbody>\n</table>\n<p>26328985 rows × 2 columns</p>\n</div>"
          },
          "metadata": {},
          "execution_count": 35
        }
      ]
    },
    {
      "cell_type": "code",
      "execution_count": 43,
      "metadata": {},
      "outputs": [
        {
          "output_type": "stream",
          "name": "stdout",
          "text": [
            "Writing /mnt/f/proyectos/bikes/src/preprocessing/../../data/files/../parts/chicago-divvy-trips-part-1\n",
            "Writing /mnt/f/proyectos/bikes/src/preprocessing/../../data/files/../parts/chicago-divvy-trips-part-2\n",
            "Writing /mnt/f/proyectos/bikes/src/preprocessing/../../data/files/../parts/chicago-divvy-trips-part-3\n",
            "Writing /mnt/f/proyectos/bikes/src/preprocessing/../../data/files/../parts/chicago-divvy-trips-part-4\n",
            "Writing /mnt/f/proyectos/bikes/src/preprocessing/../../data/files/../parts/chicago-divvy-trips-part-5\n",
            "Writing /mnt/f/proyectos/bikes/src/preprocessing/../../data/files/../parts/chicago-divvy-trips-part-6\n",
            "Writing /mnt/f/proyectos/bikes/src/preprocessing/../../data/files/../parts/chicago-divvy-trips-part-7\n",
            "Writing /mnt/f/proyectos/bikes/src/preprocessing/../../data/files/../parts/chicago-divvy-trips-part-8\n",
            "Writing /mnt/f/proyectos/bikes/src/preprocessing/../../data/files/../parts/chicago-divvy-trips-part-9\n",
            "Writing /mnt/f/proyectos/bikes/src/preprocessing/../../data/files/../parts/chicago-divvy-trips-part-10\n",
            "Writing /mnt/f/proyectos/bikes/src/preprocessing/../../data/files/../parts/chicago-divvy-trips-part-11\n",
            "Writing /mnt/f/proyectos/bikes/src/preprocessing/../../data/files/../parts/chicago-divvy-trips-part-12\n",
            "Writing /mnt/f/proyectos/bikes/src/preprocessing/../../data/files/../parts/chicago-divvy-trips-part-13\n",
            "Writing /mnt/f/proyectos/bikes/src/preprocessing/../../data/files/../parts/chicago-divvy-trips-part-14\n"
          ]
        }
      ],
      "source": [
        "save_with_split(df=df, write_size=49500000, dest_folder=f'{path()}/../parts')"
      ]
    },
    {
      "cell_type": "code",
      "metadata": {
        "colab": {
          "base_uri": "https://localhost:8080/"
        },
        "id": "_VYT4OUaU6SD",
        "outputId": "68aacb9f-fedc-4133-d17c-0d2ca88fe782"
      },
      "source": [
        "parts = [f\"{path()}/../parts/chicago-divvy-trips-part-{i}\" for i in list(range(1,34))]\n",
        "join(f'{path()}/trips.csv', parts)"
      ],
      "execution_count": 39,
      "outputs": [
        {
          "output_type": "stream",
          "text": [
            "Putting together /content/bike-forecasting/src/preprocessing/../../data/files/parts/trips-part-2\n",
            "Putting together /content/bike-forecasting/src/preprocessing/../../data/files/parts/trips-part-3\n",
            "Putting together /content/bike-forecasting/src/preprocessing/../../data/files/parts/trips-part-4\n",
            "Putting together /content/bike-forecasting/src/preprocessing/../../data/files/parts/trips-part-5\n",
            "Putting together /content/bike-forecasting/src/preprocessing/../../data/files/parts/trips-part-6\n",
            "Putting together /content/bike-forecasting/src/preprocessing/../../data/files/parts/trips-part-7\n",
            "Putting together /content/bike-forecasting/src/preprocessing/../../data/files/parts/trips-part-8\n",
            "Putting together /content/bike-forecasting/src/preprocessing/../../data/files/parts/trips-part-9\n",
            "Putting together /content/bike-forecasting/src/preprocessing/../../data/files/parts/trips-part-10\n",
            "Putting together /content/bike-forecasting/src/preprocessing/../../data/files/parts/trips-part-11\n",
            "Putting together /content/bike-forecasting/src/preprocessing/../../data/files/parts/trips-part-12\n",
            "Putting together /content/bike-forecasting/src/preprocessing/../../data/files/parts/trips-part-13\n",
            "Putting together /content/bike-forecasting/src/preprocessing/../../data/files/parts/trips-part-14\n",
            "Putting together /content/bike-forecasting/src/preprocessing/../../data/files/parts/trips-part-15\n",
            "Putting together /content/bike-forecasting/src/preprocessing/../../data/files/parts/trips-part-16\n",
            "Putting together /content/bike-forecasting/src/preprocessing/../../data/files/parts/trips-part-17\n",
            "Putting together /content/bike-forecasting/src/preprocessing/../../data/files/parts/trips-part-18\n",
            "Putting together /content/bike-forecasting/src/preprocessing/../../data/files/parts/trips-part-19\n",
            "Putting together /content/bike-forecasting/src/preprocessing/../../data/files/parts/trips-part-20\n",
            "Putting together /content/bike-forecasting/src/preprocessing/../../data/files/parts/trips-part-21\n",
            "Putting together /content/bike-forecasting/src/preprocessing/../../data/files/parts/trips-part-22\n",
            "Putting together /content/bike-forecasting/src/preprocessing/../../data/files/parts/trips-part-23\n",
            "Putting together /content/bike-forecasting/src/preprocessing/../../data/files/parts/trips-part-24\n",
            "Putting together /content/bike-forecasting/src/preprocessing/../../data/files/parts/trips-part-25\n",
            "Putting together /content/bike-forecasting/src/preprocessing/../../data/files/parts/trips-part-26\n",
            "Putting together /content/bike-forecasting/src/preprocessing/../../data/files/parts/trips-part-27\n",
            "Putting together /content/bike-forecasting/src/preprocessing/../../data/files/parts/trips-part-28\n",
            "Putting together /content/bike-forecasting/src/preprocessing/../../data/files/parts/trips-part-29\n",
            "Putting together /content/bike-forecasting/src/preprocessing/../../data/files/parts/trips-part-30\n",
            "Putting together /content/bike-forecasting/src/preprocessing/../../data/files/parts/trips-part-31\n",
            "Putting together /content/bike-forecasting/src/preprocessing/../../data/files/parts/trips-part-32\n",
            "Putting together /content/bike-forecasting/src/preprocessing/../../data/files/parts/trips-part-33\n"
          ],
          "name": "stdout"
        }
      ]
    }
  ]
}
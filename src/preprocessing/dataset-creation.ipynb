{
  "nbformat": 4,
  "nbformat_minor": 0,
  "metadata": {
    "language_info": {
      "codemirror_mode": {
        "name": "ipython",
        "version": 3
      },
      "file_extension": ".py",
      "mimetype": "text/x-python",
      "name": "python",
      "nbconvert_exporter": "python",
      "pygments_lexer": "ipython3",
      "version": "3.8.5-final"
    },
    "orig_nbformat": 2,
    "kernelspec": {
      "name": "python3",
      "display_name": "Python 3",
      "language": "python"
    },
    "colab": {
      "name": "dataset-creation.ipynb",
      "provenance": [],
      "include_colab_link": true
    }
  },
  "cells": [
    {
      "cell_type": "markdown",
      "metadata": {
        "id": "view-in-github",
        "colab_type": "text"
      },
      "source": [
        "<a href=\"https://colab.research.google.com/github/onmax/bike-forecasting/blob/main/src/preprocessing/dataset-creation.ipynb\" target=\"_parent\"><img src=\"https://colab.research.google.com/assets/colab-badge.svg\" alt=\"Open In Colab\"/></a>"
      ]
    },
    {
      "cell_type": "code",
      "metadata": {
        "colab": {
          "base_uri": "https://localhost:8080/"
        },
        "id": "IClS3VUFVWJ4",
        "outputId": "7a62bf2b-c000-424d-df5b-cbbae4c37466"
      },
      "source": [
        "# Getting the dataset\r\n",
        "!git clone \"https://github.com/onmax/bike-forecasting\"\r\n",
        "%cd bike-forecasting/src/preprocessing"
      ],
      "execution_count": 4,
      "outputs": [
        {
          "output_type": "stream",
          "text": [
            "Cloning into 'bike-forecasting'...\n",
            "remote: Enumerating objects: 45, done.\u001b[K\n",
            "remote: Total 45 (delta 0), reused 0 (delta 0), pack-reused 45\u001b[K\n",
            "Unpacking objects: 100% (45/45), done.\n",
            "Checking out files: 100% (35/35), done.\n",
            "/content/bike-forecasting\n"
          ],
          "name": "stdout"
        }
      ]
    },
    {
      "cell_type": "code",
      "metadata": {
        "colab": {
          "base_uri": "https://localhost:8080/",
          "height": 106
        },
        "id": "lY0TEGWgT1it",
        "outputId": "667d4905-74a0-453a-8da3-6abcef48c37b"
      },
      "source": [
        "import pandas as pd\n",
        "import os\n",
        "import pickle\n",
        "\n",
        "\n",
        "# files got from https://divvy-tripdata.s3.amazonaws.com/index.html. Data folder should look like this\n",
        "'''\n",
        "├── data\n",
        "│   ├── files\n",
        "│   │   ├── 2014\n",
        "│   │   │   └── ...\n",
        "│   │   ├── 2015\n",
        "│   │   │   └── ...\n",
        "│   │   ├── 2016\n",
        "│   │   │   └── ...\n",
        "│   │   ├── 2017\n",
        "│   │   │   └── ...\n",
        "│   │   ├── 2018\n",
        "│   │   │   └── ...\n",
        "│   │   └── 2019\n",
        "│   │       └── ...\n",
        "│   └── raw\n",
        "│       ├── Divvy_Stations_Trips_2014_Q1Q2.zip\n",
        "│       ├── Divvy_Stations_Trips_2014_Q3Q4.zip\n",
        "│       ├── Divvy_Trips_2015-Q1Q2.zip\n",
        "│       ├── Divvy_Trips_2015_Q3Q4.zip\n",
        "│       ├── Divvy_Trips_2016_Q1Q2.zip\n",
        "│       ├── Divvy_Trips_2016_Q3Q4.zip\n",
        "│       ├── Divvy_Trips_2017_Q1Q2.zip\n",
        "│       ├── Divvy_Trips_2017_Q3Q4.zip\n",
        "│       ├── Divvy_Trips_2018_Q1.zip\n",
        "│       ├── Divvy_Trips_2018_Q2.zip\n",
        "│       ├── Divvy_Trips_2018_Q3.zip\n",
        "│       ├── Divvy_Trips_2018_Q4.zip\n",
        "│       ├── Divvy_Trips_2019_Q1.zip\n",
        "│       ├── Divvy_Trips_2019_Q2.zip\n",
        "│       ├── Divvy_Trips_2019_Q3.zip\n",
        "│       └── Divvy_Trips_2019_Q4.zip\n",
        "└── src \n",
        "    └── ...\n",
        "'''"
      ],
      "execution_count": 1,
      "outputs": [
        {
          "output_type": "execute_result",
          "data": {
            "text/plain": [
              "'\\n├── data\\n│\\xa0\\xa0 ├── files\\n│\\xa0\\xa0 │\\xa0\\xa0 ├── 2014\\n│\\xa0\\xa0 │\\xa0\\xa0 │   └── ...\\n│\\xa0\\xa0 │\\xa0\\xa0 ├── 2015\\n│\\xa0\\xa0 │\\xa0\\xa0 │   └── ...\\n│\\xa0\\xa0 │\\xa0\\xa0 ├── 2016\\n│\\xa0\\xa0 │\\xa0\\xa0 │   └── ...\\n│\\xa0\\xa0 │\\xa0\\xa0 ├── 2017\\n│\\xa0\\xa0 │\\xa0\\xa0 │   └── ...\\n│\\xa0\\xa0 │\\xa0\\xa0 ├── 2018\\n│\\xa0\\xa0 │\\xa0\\xa0 │   └── ...\\n│\\xa0\\xa0 │\\xa0\\xa0 └── 2019\\n│\\xa0\\xa0 │\\xa0\\xa0     └── ...\\n│\\xa0\\xa0 └── raw\\n│\\xa0\\xa0     ├── Divvy_Stations_Trips_2014_Q1Q2.zip\\n│\\xa0\\xa0     ├── Divvy_Stations_Trips_2014_Q3Q4.zip\\n│\\xa0\\xa0     ├── Divvy_Trips_2015-Q1Q2.zip\\n│\\xa0\\xa0     ├── Divvy_Trips_2015_Q3Q4.zip\\n│\\xa0\\xa0     ├── Divvy_Trips_2016_Q1Q2.zip\\n│\\xa0\\xa0     ├── Divvy_Trips_2016_Q3Q4.zip\\n│\\xa0\\xa0     ├── Divvy_Trips_2017_Q1Q2.zip\\n│\\xa0\\xa0     ├── Divvy_Trips_2017_Q3Q4.zip\\n│\\xa0\\xa0     ├── Divvy_Trips_2018_Q1.zip\\n│\\xa0\\xa0     ├── Divvy_Trips_2018_Q2.zip\\n│\\xa0\\xa0     ├── Divvy_Trips_2018_Q3.zip\\n│\\xa0\\xa0     ├── Divvy_Trips_2018_Q4.zip\\n│\\xa0\\xa0     ├── Divvy_Trips_2019_Q1.zip\\n│\\xa0\\xa0     ├── Divvy_Trips_2019_Q2.zip\\n│\\xa0\\xa0     ├── Divvy_Trips_2019_Q3.zip\\n│\\xa0\\xa0     └── Divvy_Trips_2019_Q4.zip\\n└── src \\n    └── ...\\n'"
            ]
          },
          "metadata": {},
          "execution_count": 1
        }
      ]
    },
    {
      "cell_type": "code",
      "metadata": {
        "id": "adkIkww0T1i4"
      },
      "source": [
        "def path():\n",
        "    current_path = os.getcwd()\n",
        "    return f\"{current_path}/../../data/files\"\n",
        "\n",
        "def data_path(year):\n",
        "    return f\"{path()}/{year}\"\n",
        "\n",
        "def get_pickles(years):\n",
        "    current_path = path()\n",
        "    paths = []\n",
        "    for year in years:\n",
        "        pickle_path = f\"{current_path}/trips-{year}.pickle\"\n",
        "        paths.append(pickle_path)\n",
        "    return paths\n",
        "\n",
        "def merge_csv(inputs, output, year, usecols=[\"starttime\", \"from_station_id\", \"from_station_name\"]):\n",
        "    df = pd.DataFrame()\n",
        "    for input in inputs:\n",
        "        print(f\"Reading {input}\")\n",
        "        df_temp = pd.read_csv(input, usecols=usecols)\n",
        "        df = pd.concat([df, df_temp], join='outer')\n",
        "    output_file = f\"{output}/trips-{year}.pickle\"\n",
        "    print(f\"Writing {output_file}\")\n",
        "    df.to_pickle(output_file)\n",
        "\n",
        "def merge_years(inputs, output):\n",
        "    df = pd.DataFrame()\n",
        "    for input in inputs:\n",
        "        print(f\"Reading {input}\")\n",
        "        df_temp = pd.read_pickle(input)\n",
        "        df = pd.concat([df, df_temp], join='outer')\n",
        "    output_file = f\"{output}/trips.pickle\"\n",
        "    print(f\"Writing {output_file}\")\n",
        "    df.to_pickle(output_file)\n",
        "\n",
        "def split(source, dest_folder, write_size):\n",
        "    # Make a destination folder if it doesn't exist yet\n",
        "    if not os.path.exists(dest_folder):\n",
        "        os.mkdir(dest_folder)\n",
        "    else:\n",
        "        # Otherwise clean out all files in the destination folder\n",
        "        for file in os.listdir(dest_folder):\n",
        "            os.remove(os.path.join(dest_folder, file))\n",
        "    partnum = 0\n",
        "    \n",
        "    with open(source, 'rb') as input:\n",
        "        while True:\n",
        "            chunk = input.read(write_size)\n",
        "            if not chunk:\n",
        "                # End the loop if we have hit EOF\n",
        "                break\n",
        "            partnum += 1\n",
        "            # Create a new file name\n",
        "            with open(f\"{dest_folder}/trips-part-{partnum}\", 'wb') as fd:\n",
        "                fd.write(chunk)\n",
        "\n",
        "def join(output_file, parts):\n",
        "  with open(output_file, 'wb') as output:\n",
        "    for part in parts:\n",
        "        with open(part, 'rb') as input_file:\n",
        "          print(f\"Putting together {part}\")\n",
        "          output.write(input_file.read())"
      ],
      "execution_count": 9,
      "outputs": []
    },
    {
      "cell_type": "code",
      "metadata": {
        "id": "N8qjKo6cT1i4",
        "outputId": "7f6f0940-1780-40a9-c7e4-07ad0512ea19"
      },
      "source": [
        "year = \"2014\"\n",
        "csv_folder = data_path(year)\n",
        "csv_names = [\"Divvy_Trips_2014_Q1Q2.csv\", \"Divvy_Trips_2014-Q3-07.csv\", \"Divvy_Trips_2014-Q3-0809.csv\", \"Divvy_Trips_2014-Q4.csv\"]\n",
        "csv_paths = [f\"{csv_folder}/{f}\" for f in csv_names]\n",
        "merge_csv(csv_paths, csv_folder, year)"
      ],
      "execution_count": 10,
      "outputs": [
        {
          "output_type": "stream",
          "name": "stdout",
          "text": [
            "Reading /mnt/f/proyectos/bikes/src/preprocessing/../../data/files/2014/Divvy_Trips_2014_Q1Q2.csv\n",
            "Reading /mnt/f/proyectos/bikes/src/preprocessing/../../data/files/2014/Divvy_Trips_2014-Q3-07.csv\n",
            "Reading /mnt/f/proyectos/bikes/src/preprocessing/../../data/files/2014/Divvy_Trips_2014-Q3-0809.csv\n",
            "Reading /mnt/f/proyectos/bikes/src/preprocessing/../../data/files/2014/Divvy_Trips_2014-Q4.csv\n",
            "Writing /mnt/f/proyectos/bikes/src/preprocessing/../../data/files/2014/trips-2014.pickle\n"
          ]
        }
      ]
    },
    {
      "cell_type": "code",
      "execution_count": 23,
      "metadata": {},
      "outputs": [],
      "source": [
        "year = \"2014\"\n",
        "split(source=f'{path()}/trips-{year}.pickle', write_size=49500000, dest_folder=f'{path()}/parts/{year}')"
      ]
    },
    {
      "cell_type": "code",
      "metadata": {
        "id": "8tL_V4GjT1i5",
        "outputId": "90a2e3dc-97bb-4bbc-a3b4-32baad5eea9d"
      },
      "source": [
        "year = \"2015\"\n",
        "csv_folder = data_path(year)\n",
        "csv_names = [\"Divvy_Trips_2015-Q1.csv\", \"Divvy_Trips_2015-Q2.csv\", \"Divvy_Trips_2015_07.csv\", \"Divvy_Trips_2015_08.csv\", \"Divvy_Trips_2015_09.csv\", \"Divvy_Trips_2015_Q4.csv\"]\n",
        "csv_paths = [f\"{csv_folder}/{f}\" for f in csv_names]\n",
        "merge_csv(csv_paths, csv_folder, year)"
      ],
      "execution_count": 11,
      "outputs": [
        {
          "output_type": "stream",
          "name": "stdout",
          "text": [
            "Reading /mnt/f/proyectos/bikes/src/preprocessing/../../data/files/2015/Divvy_Trips_2015-Q1.csv\n",
            "Reading /mnt/f/proyectos/bikes/src/preprocessing/../../data/files/2015/Divvy_Trips_2015-Q2.csv\n",
            "Reading /mnt/f/proyectos/bikes/src/preprocessing/../../data/files/2015/Divvy_Trips_2015_07.csv\n",
            "Reading /mnt/f/proyectos/bikes/src/preprocessing/../../data/files/2015/Divvy_Trips_2015_08.csv\n",
            "Reading /mnt/f/proyectos/bikes/src/preprocessing/../../data/files/2015/Divvy_Trips_2015_09.csv\n",
            "Reading /mnt/f/proyectos/bikes/src/preprocessing/../../data/files/2015/Divvy_Trips_2015_Q4.csv\n",
            "Writing /mnt/f/proyectos/bikes/src/preprocessing/../../data/files/2015/trips-2015.pickle\n"
          ]
        }
      ]
    },
    {
      "cell_type": "code",
      "execution_count": 25,
      "metadata": {},
      "outputs": [],
      "source": [
        "year = \"2015\"\n",
        "split(source=f'{path()}/trips-{year}.pickle', write_size=49500000, dest_folder=f'{path()}/parts/{year}')"
      ]
    },
    {
      "cell_type": "code",
      "metadata": {
        "id": "NZNjoGXBT1i5",
        "outputId": "a407a7fc-9436-4d2c-cb29-28901c0d33ee"
      },
      "source": [
        "year = \"2016\"\n",
        "csv_folder = data_path(year)\n",
        "csv_names = [\"Divvy_Trips_2016_Q1.csv\", \"Divvy_Trips_2016_04.csv\", \"Divvy_Trips_2016_05.csv\", \"Divvy_Trips_2016_06.csv\",\"Divvy_Trips_2016_Q3.csv\", \"Divvy_Trips_2016_Q4.csv\"]\n",
        "csv_paths = [f\"{csv_folder}/{f}\" for f in csv_names]\n",
        "merge_csv(csv_paths, csv_folder, year)"
      ],
      "execution_count": 12,
      "outputs": [
        {
          "output_type": "stream",
          "name": "stdout",
          "text": [
            "Reading /mnt/f/proyectos/bikes/src/preprocessing/../../data/files/2016/Divvy_Trips_2016_Q1.csv\n",
            "Reading /mnt/f/proyectos/bikes/src/preprocessing/../../data/files/2016/Divvy_Trips_2016_04.csv\n",
            "Reading /mnt/f/proyectos/bikes/src/preprocessing/../../data/files/2016/Divvy_Trips_2016_05.csv\n",
            "Reading /mnt/f/proyectos/bikes/src/preprocessing/../../data/files/2016/Divvy_Trips_2016_06.csv\n",
            "Reading /mnt/f/proyectos/bikes/src/preprocessing/../../data/files/2016/Divvy_Trips_2016_Q3.csv\n",
            "Reading /mnt/f/proyectos/bikes/src/preprocessing/../../data/files/2016/Divvy_Trips_2016_Q4.csv\n",
            "Writing /mnt/f/proyectos/bikes/src/preprocessing/../../data/files/2016/trips-2016.pickle\n"
          ]
        }
      ]
    },
    {
      "cell_type": "code",
      "execution_count": 27,
      "metadata": {},
      "outputs": [],
      "source": [
        "year = \"2016\"\n",
        "split(source=f'{path()}/trips-{year}.pickle', write_size=49500000, dest_folder=f'{path()}/parts/{year}')"
      ]
    },
    {
      "cell_type": "code",
      "metadata": {
        "id": "Iq-16dvHT1i6",
        "outputId": "35773af6-9e68-4b57-9d3d-4a8ae1ae7d83"
      },
      "source": [
        "year = \"2017\"\n",
        "csv_folder = data_path(year)\n",
        "csv_names = [\"Divvy_Trips_2017_Q1.csv\", \"Divvy_Trips_2017_Q2.csv\", \"Divvy_Trips_2017_Q3.csv\", \"Divvy_Trips_2017_Q4.csv\"]\n",
        "csv_paths = [f\"{csv_folder}/{f}\" for f in csv_names]\n",
        "merge_csv(csv_paths, csv_folder, year, usecols=[\"start_time\", \"from_station_id\", \"from_station_name\"])"
      ],
      "execution_count": 17,
      "outputs": [
        {
          "output_type": "stream",
          "name": "stdout",
          "text": [
            "Reading /mnt/f/proyectos/bikes/src/preprocessing/../../data/files/2017/Divvy_Trips_2017_Q1.csv\n",
            "Reading /mnt/f/proyectos/bikes/src/preprocessing/../../data/files/2017/Divvy_Trips_2017_Q2.csv\n",
            "Reading /mnt/f/proyectos/bikes/src/preprocessing/../../data/files/2017/Divvy_Trips_2017_Q3.csv\n",
            "Reading /mnt/f/proyectos/bikes/src/preprocessing/../../data/files/2017/Divvy_Trips_2017_Q4.csv\n",
            "Writing /mnt/f/proyectos/bikes/src/preprocessing/../../data/files/2017/trips-2017.pickle\n"
          ]
        }
      ]
    },
    {
      "cell_type": "code",
      "execution_count": 28,
      "metadata": {},
      "outputs": [],
      "source": [
        "year = \"2017\"\n",
        "split(source=f'{path()}/trips-{year}.pickle', write_size=49500000, dest_folder=f'{path()}/parts/{year}')"
      ]
    },
    {
      "cell_type": "code",
      "metadata": {
        "id": "-mouCptGT1i6",
        "outputId": "7c13b3de-fcba-48db-e639-8e086ef97d2f"
      },
      "source": [
        "year = \"2018\"\n",
        "csv_folder = data_path(year)\n",
        "csv_names = [\"Divvy_Trips_2018_Q1.csv\", \"Divvy_Trips_2018_Q2.csv\", \"Divvy_Trips_2018_Q3.csv\", \"Divvy_Trips_2018_Q4.csv\"]\n",
        "csv_paths = [f\"{csv_folder}/{f}\" for f in csv_names]\n",
        "merge_csv(csv_paths, csv_folder, year, usecols=[\"start_time\", \"from_station_id\", \"from_station_name\"])"
      ],
      "execution_count": 19,
      "outputs": [
        {
          "output_type": "stream",
          "name": "stdout",
          "text": [
            "Reading /mnt/f/proyectos/bikes/src/preprocessing/../../data/files/2018/Divvy_Trips_2018_Q1.csv\n",
            "Reading /mnt/f/proyectos/bikes/src/preprocessing/../../data/files/2018/Divvy_Trips_2018_Q2.csv\n",
            "Reading /mnt/f/proyectos/bikes/src/preprocessing/../../data/files/2018/Divvy_Trips_2018_Q3.csv\n",
            "Reading /mnt/f/proyectos/bikes/src/preprocessing/../../data/files/2018/Divvy_Trips_2018_Q4.csv\n",
            "Writing /mnt/f/proyectos/bikes/src/preprocessing/../../data/files/2018/trips-2018.pickle\n"
          ]
        }
      ]
    },
    {
      "cell_type": "code",
      "execution_count": 29,
      "metadata": {},
      "outputs": [],
      "source": [
        "year = \"2018\"\n",
        "split(source=f'{path()}/trips-{year}.pickle', write_size=49500000, dest_folder=f'{path()}/parts/{year}')"
      ]
    },
    {
      "cell_type": "code",
      "metadata": {
        "id": "f35EH-9uT1i7",
        "outputId": "aa12f0b4-d966-44f2-a32a-68dc5b266b38"
      },
      "source": [
        "year = \"2019\"\n",
        "csv_folder = data_path(year)\n",
        "csv_names = [\"Divvy_Trips_2019_Q1.csv\", \"Divvy_Trips_2019_Q2.csv\", \"Divvy_Trips_2019_Q3.csv\", \"Divvy_Trips_2019_Q4.csv\"]\n",
        "csv_paths = [f\"{csv_folder}/{f}\" for f in csv_names]\n",
        "merge_csv(csv_paths, csv_folder, year, usecols=[\"start_time\", \"from_station_id\", \"from_station_name\"])"
      ],
      "execution_count": 21,
      "outputs": [
        {
          "output_type": "stream",
          "name": "stdout",
          "text": [
            "Reading /mnt/f/proyectos/bikes/src/preprocessing/../../data/files/2019/Divvy_Trips_2019_Q1.csv\n",
            "Reading /mnt/f/proyectos/bikes/src/preprocessing/../../data/files/2019/Divvy_Trips_2019_Q2.csv\n",
            "Reading /mnt/f/proyectos/bikes/src/preprocessing/../../data/files/2019/Divvy_Trips_2019_Q3.csv\n",
            "Reading /mnt/f/proyectos/bikes/src/preprocessing/../../data/files/2019/Divvy_Trips_2019_Q4.csv\n",
            "Writing /mnt/f/proyectos/bikes/src/preprocessing/../../data/files/2019/trips-2019.pickle\n"
          ]
        }
      ]
    },
    {
      "cell_type": "code",
      "execution_count": 30,
      "metadata": {},
      "outputs": [],
      "source": [
        "year = \"2019\"\n",
        "split(source=f'{path()}/trips-{year}.pickle', write_size=49500000, dest_folder=f'{path()}/parts/{year}')"
      ]
    },
    {
      "cell_type": "code",
      "metadata": {
        "id": "7mm0SLiET1i7",
        "outputId": "3baf0939-15ec-4e47-95d6-0c94452dbf3a"
      },
      "source": [
        "# Merge all pickles\n",
        "years = list(range(2014, 2020))\n",
        "pickles = get_pickles(years)\n",
        "merge_years(pickles, path())"
      ],
      "execution_count": 22,
      "outputs": [
        {
          "output_type": "stream",
          "name": "stdout",
          "text": [
            "Reading /mnt/f/proyectos/bikes/src/preprocessing/../../data/files/trips-2014.pickle\n",
            "Reading /mnt/f/proyectos/bikes/src/preprocessing/../../data/files/trips-2015.pickle\n",
            "Reading /mnt/f/proyectos/bikes/src/preprocessing/../../data/files/trips-2016.pickle\n",
            "Reading /mnt/f/proyectos/bikes/src/preprocessing/../../data/files/trips-2017.pickle\n",
            "Reading /mnt/f/proyectos/bikes/src/preprocessing/../../data/files/trips-2018.pickle\n",
            "Reading /mnt/f/proyectos/bikes/src/preprocessing/../../data/files/trips-2019.pickle\n",
            "Writing /mnt/f/proyectos/bikes/src/preprocessing/../../data/files/trips.pickle\n"
          ]
        },
        {
          "output_type": "error",
          "ename": "MemoryError",
          "evalue": "",
          "traceback": [
            "\u001b[0;31m---------------------------------------------------------------------------\u001b[0m",
            "\u001b[0;31mMemoryError\u001b[0m                               Traceback (most recent call last)",
            "\u001b[0;32m<ipython-input-22-d253ec8e5ca3>\u001b[0m in \u001b[0;36m<module>\u001b[0;34m\u001b[0m\n\u001b[1;32m      2\u001b[0m \u001b[0myears\u001b[0m \u001b[0;34m=\u001b[0m \u001b[0mlist\u001b[0m\u001b[0;34m(\u001b[0m\u001b[0mrange\u001b[0m\u001b[0;34m(\u001b[0m\u001b[0;36m2014\u001b[0m\u001b[0;34m,\u001b[0m \u001b[0;36m2020\u001b[0m\u001b[0;34m)\u001b[0m\u001b[0;34m)\u001b[0m\u001b[0;34m\u001b[0m\u001b[0;34m\u001b[0m\u001b[0m\n\u001b[1;32m      3\u001b[0m \u001b[0mpickles\u001b[0m \u001b[0;34m=\u001b[0m \u001b[0mget_pickles\u001b[0m\u001b[0;34m(\u001b[0m\u001b[0myears\u001b[0m\u001b[0;34m)\u001b[0m\u001b[0;34m\u001b[0m\u001b[0;34m\u001b[0m\u001b[0m\n\u001b[0;32m----> 4\u001b[0;31m \u001b[0mmerge_years\u001b[0m\u001b[0;34m(\u001b[0m\u001b[0mpickles\u001b[0m\u001b[0;34m,\u001b[0m \u001b[0mpath\u001b[0m\u001b[0;34m(\u001b[0m\u001b[0;34m)\u001b[0m\u001b[0;34m)\u001b[0m\u001b[0;34m\u001b[0m\u001b[0;34m\u001b[0m\u001b[0m\n\u001b[0m",
            "\u001b[0;32m<ipython-input-9-f8d8e6c63588>\u001b[0m in \u001b[0;36mmerge_years\u001b[0;34m(inputs, output)\u001b[0m\n\u001b[1;32m     32\u001b[0m     \u001b[0moutput_file\u001b[0m \u001b[0;34m=\u001b[0m \u001b[0;34mf\"{output}/trips.pickle\"\u001b[0m\u001b[0;34m\u001b[0m\u001b[0;34m\u001b[0m\u001b[0m\n\u001b[1;32m     33\u001b[0m     \u001b[0mprint\u001b[0m\u001b[0;34m(\u001b[0m\u001b[0;34mf\"Writing {output_file}\"\u001b[0m\u001b[0;34m)\u001b[0m\u001b[0;34m\u001b[0m\u001b[0;34m\u001b[0m\u001b[0m\n\u001b[0;32m---> 34\u001b[0;31m     \u001b[0mdf\u001b[0m\u001b[0;34m.\u001b[0m\u001b[0mto_pickle\u001b[0m\u001b[0;34m(\u001b[0m\u001b[0moutput_file\u001b[0m\u001b[0;34m)\u001b[0m\u001b[0;34m\u001b[0m\u001b[0;34m\u001b[0m\u001b[0m\n\u001b[0m\u001b[1;32m     35\u001b[0m \u001b[0;34m\u001b[0m\u001b[0m\n\u001b[1;32m     36\u001b[0m \u001b[0;32mdef\u001b[0m \u001b[0msplit\u001b[0m\u001b[0;34m(\u001b[0m\u001b[0msource\u001b[0m\u001b[0;34m,\u001b[0m \u001b[0mdest_folder\u001b[0m\u001b[0;34m,\u001b[0m \u001b[0mwrite_size\u001b[0m\u001b[0;34m)\u001b[0m\u001b[0;34m:\u001b[0m\u001b[0;34m\u001b[0m\u001b[0;34m\u001b[0m\u001b[0m\n",
            "\u001b[0;32m/usr/local/lib/python3.8/dist-packages/pandas/core/generic.py\u001b[0m in \u001b[0;36mto_pickle\u001b[0;34m(self, path, compression, protocol)\u001b[0m\n\u001b[1;32m   2674\u001b[0m         \u001b[0;32mfrom\u001b[0m \u001b[0mpandas\u001b[0m\u001b[0;34m.\u001b[0m\u001b[0mio\u001b[0m\u001b[0;34m.\u001b[0m\u001b[0mpickle\u001b[0m \u001b[0;32mimport\u001b[0m \u001b[0mto_pickle\u001b[0m\u001b[0;34m\u001b[0m\u001b[0;34m\u001b[0m\u001b[0m\n\u001b[1;32m   2675\u001b[0m \u001b[0;34m\u001b[0m\u001b[0m\n\u001b[0;32m-> 2676\u001b[0;31m         \u001b[0mto_pickle\u001b[0m\u001b[0;34m(\u001b[0m\u001b[0mself\u001b[0m\u001b[0;34m,\u001b[0m \u001b[0mpath\u001b[0m\u001b[0;34m,\u001b[0m \u001b[0mcompression\u001b[0m\u001b[0;34m=\u001b[0m\u001b[0mcompression\u001b[0m\u001b[0;34m,\u001b[0m \u001b[0mprotocol\u001b[0m\u001b[0;34m=\u001b[0m\u001b[0mprotocol\u001b[0m\u001b[0;34m)\u001b[0m\u001b[0;34m\u001b[0m\u001b[0;34m\u001b[0m\u001b[0m\n\u001b[0m\u001b[1;32m   2677\u001b[0m \u001b[0;34m\u001b[0m\u001b[0m\n\u001b[1;32m   2678\u001b[0m     def to_clipboard(\n",
            "\u001b[0;32m/usr/local/lib/python3.8/dist-packages/pandas/io/pickle.py\u001b[0m in \u001b[0;36mto_pickle\u001b[0;34m(obj, filepath_or_buffer, compression, protocol)\u001b[0m\n\u001b[1;32m     85\u001b[0m         \u001b[0mprotocol\u001b[0m \u001b[0;34m=\u001b[0m \u001b[0mpickle\u001b[0m\u001b[0;34m.\u001b[0m\u001b[0mHIGHEST_PROTOCOL\u001b[0m\u001b[0;34m\u001b[0m\u001b[0;34m\u001b[0m\u001b[0m\n\u001b[1;32m     86\u001b[0m     \u001b[0;32mtry\u001b[0m\u001b[0;34m:\u001b[0m\u001b[0;34m\u001b[0m\u001b[0;34m\u001b[0m\u001b[0m\n\u001b[0;32m---> 87\u001b[0;31m         \u001b[0mf\u001b[0m\u001b[0;34m.\u001b[0m\u001b[0mwrite\u001b[0m\u001b[0;34m(\u001b[0m\u001b[0mpickle\u001b[0m\u001b[0;34m.\u001b[0m\u001b[0mdumps\u001b[0m\u001b[0;34m(\u001b[0m\u001b[0mobj\u001b[0m\u001b[0;34m,\u001b[0m \u001b[0mprotocol\u001b[0m\u001b[0;34m=\u001b[0m\u001b[0mprotocol\u001b[0m\u001b[0;34m)\u001b[0m\u001b[0;34m)\u001b[0m\u001b[0;34m\u001b[0m\u001b[0;34m\u001b[0m\u001b[0m\n\u001b[0m\u001b[1;32m     88\u001b[0m     \u001b[0;32mfinally\u001b[0m\u001b[0;34m:\u001b[0m\u001b[0;34m\u001b[0m\u001b[0;34m\u001b[0m\u001b[0m\n\u001b[1;32m     89\u001b[0m         \u001b[0mf\u001b[0m\u001b[0;34m.\u001b[0m\u001b[0mclose\u001b[0m\u001b[0;34m(\u001b[0m\u001b[0;34m)\u001b[0m\u001b[0;34m\u001b[0m\u001b[0;34m\u001b[0m\u001b[0m\n",
            "\u001b[0;31mMemoryError\u001b[0m: "
          ]
        }
      ]
    },
    {
      "cell_type": "code",
      "metadata": {
        "id": "vATCAfJsT1i7"
      },
      "source": [
        "split(source=f'{path()}/trips.pickle', write_size=49500000, dest_folder=f'{path()}/parts')"
      ],
      "execution_count": 3,
      "outputs": [
        {
          "output_type": "error",
          "ename": "FileNotFoundError",
          "evalue": "[Errno 2] No such file or directory: '/mnt/f/proyectos/bikes/src/preprocessing/../../data/files/trips.pickle'",
          "traceback": [
            "\u001b[0;31m---------------------------------------------------------------------------\u001b[0m",
            "\u001b[0;31mFileNotFoundError\u001b[0m                         Traceback (most recent call last)",
            "\u001b[0;32m<ipython-input-3-5961d406a859>\u001b[0m in \u001b[0;36m<module>\u001b[0;34m\u001b[0m\n\u001b[0;32m----> 1\u001b[0;31m \u001b[0msplit\u001b[0m\u001b[0;34m(\u001b[0m\u001b[0msource\u001b[0m\u001b[0;34m=\u001b[0m\u001b[0;34mf'{path()}/trips.pickle'\u001b[0m\u001b[0;34m,\u001b[0m \u001b[0mwrite_size\u001b[0m\u001b[0;34m=\u001b[0m\u001b[0;36m49500000\u001b[0m\u001b[0;34m,\u001b[0m \u001b[0mdest_folder\u001b[0m\u001b[0;34m=\u001b[0m\u001b[0;34mf'{path()}/parts'\u001b[0m\u001b[0;34m)\u001b[0m\u001b[0;34m\u001b[0m\u001b[0;34m\u001b[0m\u001b[0m\n\u001b[0m",
            "\u001b[0;32m<ipython-input-2-f81391cc9022>\u001b[0m in \u001b[0;36msplit\u001b[0;34m(source, dest_folder, write_size)\u001b[0m\n\u001b[1;32m     44\u001b[0m     \u001b[0mpartnum\u001b[0m \u001b[0;34m=\u001b[0m \u001b[0;36m0\u001b[0m\u001b[0;34m\u001b[0m\u001b[0;34m\u001b[0m\u001b[0m\n\u001b[1;32m     45\u001b[0m \u001b[0;34m\u001b[0m\u001b[0m\n\u001b[0;32m---> 46\u001b[0;31m     \u001b[0;32mwith\u001b[0m \u001b[0mopen\u001b[0m\u001b[0;34m(\u001b[0m\u001b[0msource\u001b[0m\u001b[0;34m,\u001b[0m \u001b[0;34m'rb'\u001b[0m\u001b[0;34m)\u001b[0m \u001b[0;32mas\u001b[0m \u001b[0minput\u001b[0m\u001b[0;34m:\u001b[0m\u001b[0;34m\u001b[0m\u001b[0;34m\u001b[0m\u001b[0m\n\u001b[0m\u001b[1;32m     47\u001b[0m         \u001b[0;32mwhile\u001b[0m \u001b[0;32mTrue\u001b[0m\u001b[0;34m:\u001b[0m\u001b[0;34m\u001b[0m\u001b[0;34m\u001b[0m\u001b[0m\n\u001b[1;32m     48\u001b[0m             \u001b[0mchunk\u001b[0m \u001b[0;34m=\u001b[0m \u001b[0minput\u001b[0m\u001b[0;34m.\u001b[0m\u001b[0mread\u001b[0m\u001b[0;34m(\u001b[0m\u001b[0mwrite_size\u001b[0m\u001b[0;34m)\u001b[0m\u001b[0;34m\u001b[0m\u001b[0;34m\u001b[0m\u001b[0m\n",
            "\u001b[0;31mFileNotFoundError\u001b[0m: [Errno 2] No such file or directory: '/mnt/f/proyectos/bikes/src/preprocessing/../../data/files/trips.pickle'"
          ]
        }
      ]
    },
    {
      "cell_type": "code",
      "metadata": {
        "colab": {
          "base_uri": "https://localhost:8080/"
        },
        "id": "_VYT4OUaU6SD",
        "outputId": "68aacb9f-fedc-4133-d17c-0d2ca88fe782"
      },
      "source": [
        "parts = [f\"{path()}/parts/trips-part-{i}\" for i in list(range(2,34))]\r\n",
        "join(f'{path()}/trips.pickle', parts)"
      ],
      "execution_count": 39,
      "outputs": [
        {
          "output_type": "stream",
          "text": [
            "Putting together /content/bike-forecasting/src/preprocessing/../../data/files/parts/trips-part-2\n",
            "Putting together /content/bike-forecasting/src/preprocessing/../../data/files/parts/trips-part-3\n",
            "Putting together /content/bike-forecasting/src/preprocessing/../../data/files/parts/trips-part-4\n",
            "Putting together /content/bike-forecasting/src/preprocessing/../../data/files/parts/trips-part-5\n",
            "Putting together /content/bike-forecasting/src/preprocessing/../../data/files/parts/trips-part-6\n",
            "Putting together /content/bike-forecasting/src/preprocessing/../../data/files/parts/trips-part-7\n",
            "Putting together /content/bike-forecasting/src/preprocessing/../../data/files/parts/trips-part-8\n",
            "Putting together /content/bike-forecasting/src/preprocessing/../../data/files/parts/trips-part-9\n",
            "Putting together /content/bike-forecasting/src/preprocessing/../../data/files/parts/trips-part-10\n",
            "Putting together /content/bike-forecasting/src/preprocessing/../../data/files/parts/trips-part-11\n",
            "Putting together /content/bike-forecasting/src/preprocessing/../../data/files/parts/trips-part-12\n",
            "Putting together /content/bike-forecasting/src/preprocessing/../../data/files/parts/trips-part-13\n",
            "Putting together /content/bike-forecasting/src/preprocessing/../../data/files/parts/trips-part-14\n",
            "Putting together /content/bike-forecasting/src/preprocessing/../../data/files/parts/trips-part-15\n",
            "Putting together /content/bike-forecasting/src/preprocessing/../../data/files/parts/trips-part-16\n",
            "Putting together /content/bike-forecasting/src/preprocessing/../../data/files/parts/trips-part-17\n",
            "Putting together /content/bike-forecasting/src/preprocessing/../../data/files/parts/trips-part-18\n",
            "Putting together /content/bike-forecasting/src/preprocessing/../../data/files/parts/trips-part-19\n",
            "Putting together /content/bike-forecasting/src/preprocessing/../../data/files/parts/trips-part-20\n",
            "Putting together /content/bike-forecasting/src/preprocessing/../../data/files/parts/trips-part-21\n",
            "Putting together /content/bike-forecasting/src/preprocessing/../../data/files/parts/trips-part-22\n",
            "Putting together /content/bike-forecasting/src/preprocessing/../../data/files/parts/trips-part-23\n",
            "Putting together /content/bike-forecasting/src/preprocessing/../../data/files/parts/trips-part-24\n",
            "Putting together /content/bike-forecasting/src/preprocessing/../../data/files/parts/trips-part-25\n",
            "Putting together /content/bike-forecasting/src/preprocessing/../../data/files/parts/trips-part-26\n",
            "Putting together /content/bike-forecasting/src/preprocessing/../../data/files/parts/trips-part-27\n",
            "Putting together /content/bike-forecasting/src/preprocessing/../../data/files/parts/trips-part-28\n",
            "Putting together /content/bike-forecasting/src/preprocessing/../../data/files/parts/trips-part-29\n",
            "Putting together /content/bike-forecasting/src/preprocessing/../../data/files/parts/trips-part-30\n",
            "Putting together /content/bike-forecasting/src/preprocessing/../../data/files/parts/trips-part-31\n",
            "Putting together /content/bike-forecasting/src/preprocessing/../../data/files/parts/trips-part-32\n",
            "Putting together /content/bike-forecasting/src/preprocessing/../../data/files/parts/trips-part-33\n"
          ],
          "name": "stdout"
        }
      ]
    },
    {
      "cell_type": "code",
      "metadata": {
        "colab": {
          "base_uri": "https://localhost:8080/",
          "height": 363
        },
        "id": "cB_ATjDrT1i8",
        "outputId": "d4240736-7a84-4aef-b612-020630364f88"
      },
      "source": [
        "# Group trips by hour\n",
        "df = pd.read_pickle(f\"{path()}/trips.pickle\")\n",
        "df[\"starttime\"] = pd.to_datetime(df[\"starttime\"], format='%Y-%m-%d %H:%M:%S')\n",
        "\n",
        "INTERVAL = \"1H\" # It could be also 15Min\n",
        "df = df.groupby('from_station_id').resample(INTERVAL, on='start_time') \\\n",
        "        .size() \\\n",
        "        .to_frame() \\\n",
        "        .rename(columns={0: \"quantity\", \"starttime\": \"start_time\"}) \\\n",
        "        .reset_index() \\\n",
        "        .set_index(\"start_time\")\n",
        "df"
      ],
      "execution_count": 5,
      "outputs": [
        {
          "output_type": "error",
          "ename": "ValueError",
          "evalue": "time data usertype doesn't match format specified",
          "traceback": [
            "\u001b[0;31m---------------------------------------------------------------------------\u001b[0m",
            "\u001b[0;31mTypeError\u001b[0m                                 Traceback (most recent call last)",
            "\u001b[0;32m/usr/local/lib/python3.8/dist-packages/pandas/core/arrays/datetimes.py\u001b[0m in \u001b[0;36mobjects_to_datetime64ns\u001b[0;34m(data, dayfirst, yearfirst, utc, errors, require_iso8601, allow_object)\u001b[0m\n\u001b[1;32m   2053\u001b[0m         \u001b[0;32mtry\u001b[0m\u001b[0;34m:\u001b[0m\u001b[0;34m\u001b[0m\u001b[0;34m\u001b[0m\u001b[0m\n\u001b[0;32m-> 2054\u001b[0;31m             \u001b[0mvalues\u001b[0m\u001b[0;34m,\u001b[0m \u001b[0mtz_parsed\u001b[0m \u001b[0;34m=\u001b[0m \u001b[0mconversion\u001b[0m\u001b[0;34m.\u001b[0m\u001b[0mdatetime_to_datetime64\u001b[0m\u001b[0;34m(\u001b[0m\u001b[0mdata\u001b[0m\u001b[0;34m)\u001b[0m\u001b[0;34m\u001b[0m\u001b[0;34m\u001b[0m\u001b[0m\n\u001b[0m\u001b[1;32m   2055\u001b[0m             \u001b[0;31m# If tzaware, these values represent unix timestamps, so we\u001b[0m\u001b[0;34m\u001b[0m\u001b[0;34m\u001b[0m\u001b[0;34m\u001b[0m\u001b[0m\n",
            "\u001b[0;32mpandas/_libs/tslibs/conversion.pyx\u001b[0m in \u001b[0;36mpandas._libs.tslibs.conversion.datetime_to_datetime64\u001b[0;34m()\u001b[0m\n",
            "\u001b[0;31mTypeError\u001b[0m: Unrecognized value type: <class 'str'>",
            "\nDuring handling of the above exception, another exception occurred:\n",
            "\u001b[0;31mValueError\u001b[0m                                Traceback (most recent call last)",
            "\u001b[0;32m<ipython-input-5-4f1f4b37b90b>\u001b[0m in \u001b[0;36m<module>\u001b[0;34m\u001b[0m\n\u001b[1;32m      1\u001b[0m \u001b[0;31m# Group trips by hour\u001b[0m\u001b[0;34m\u001b[0m\u001b[0;34m\u001b[0m\u001b[0;34m\u001b[0m\u001b[0m\n\u001b[1;32m      2\u001b[0m \u001b[0mdf\u001b[0m \u001b[0;34m=\u001b[0m \u001b[0mpd\u001b[0m\u001b[0;34m.\u001b[0m\u001b[0mread_pickle\u001b[0m\u001b[0;34m(\u001b[0m\u001b[0;34mf\"{path()}/trips.pickle\"\u001b[0m\u001b[0;34m)\u001b[0m\u001b[0;34m\u001b[0m\u001b[0;34m\u001b[0m\u001b[0m\n\u001b[0;32m----> 3\u001b[0;31m \u001b[0mdf\u001b[0m\u001b[0;34m[\u001b[0m\u001b[0;34m\"starttime\"\u001b[0m\u001b[0;34m]\u001b[0m \u001b[0;34m=\u001b[0m \u001b[0mpd\u001b[0m\u001b[0;34m.\u001b[0m\u001b[0mto_datetime\u001b[0m\u001b[0;34m(\u001b[0m\u001b[0mdf\u001b[0m\u001b[0;34m[\u001b[0m\u001b[0;34m\"starttime\"\u001b[0m\u001b[0;34m]\u001b[0m\u001b[0;34m,\u001b[0m \u001b[0mformat\u001b[0m\u001b[0;34m=\u001b[0m\u001b[0;34m'%Y-%m-%d %H:%M:%S'\u001b[0m\u001b[0;34m)\u001b[0m\u001b[0;34m\u001b[0m\u001b[0;34m\u001b[0m\u001b[0m\n\u001b[0m\u001b[1;32m      4\u001b[0m \u001b[0;34m\u001b[0m\u001b[0m\n\u001b[1;32m      5\u001b[0m \u001b[0mINTERVAL\u001b[0m \u001b[0;34m=\u001b[0m \u001b[0;34m\"1H\"\u001b[0m \u001b[0;31m# It could be also 15Min\u001b[0m\u001b[0;34m\u001b[0m\u001b[0;34m\u001b[0m\u001b[0m\n",
            "\u001b[0;32m/usr/local/lib/python3.8/dist-packages/pandas/core/tools/datetimes.py\u001b[0m in \u001b[0;36mto_datetime\u001b[0;34m(arg, errors, dayfirst, yearfirst, utc, format, exact, unit, infer_datetime_format, origin, cache)\u001b[0m\n\u001b[1;32m    797\u001b[0m                 \u001b[0mresult\u001b[0m \u001b[0;34m=\u001b[0m \u001b[0mresult\u001b[0m\u001b[0;34m.\u001b[0m\u001b[0mtz_localize\u001b[0m\u001b[0;34m(\u001b[0m\u001b[0mtz\u001b[0m\u001b[0;34m)\u001b[0m\u001b[0;34m\u001b[0m\u001b[0;34m\u001b[0m\u001b[0m\n\u001b[1;32m    798\u001b[0m     \u001b[0;32melif\u001b[0m \u001b[0misinstance\u001b[0m\u001b[0;34m(\u001b[0m\u001b[0marg\u001b[0m\u001b[0;34m,\u001b[0m \u001b[0mABCSeries\u001b[0m\u001b[0;34m)\u001b[0m\u001b[0;34m:\u001b[0m\u001b[0;34m\u001b[0m\u001b[0;34m\u001b[0m\u001b[0m\n\u001b[0;32m--> 799\u001b[0;31m         \u001b[0mcache_array\u001b[0m \u001b[0;34m=\u001b[0m \u001b[0m_maybe_cache\u001b[0m\u001b[0;34m(\u001b[0m\u001b[0marg\u001b[0m\u001b[0;34m,\u001b[0m \u001b[0mformat\u001b[0m\u001b[0;34m,\u001b[0m \u001b[0mcache\u001b[0m\u001b[0;34m,\u001b[0m \u001b[0mconvert_listlike\u001b[0m\u001b[0;34m)\u001b[0m\u001b[0;34m\u001b[0m\u001b[0;34m\u001b[0m\u001b[0m\n\u001b[0m\u001b[1;32m    800\u001b[0m         \u001b[0;32mif\u001b[0m \u001b[0;32mnot\u001b[0m \u001b[0mcache_array\u001b[0m\u001b[0;34m.\u001b[0m\u001b[0mempty\u001b[0m\u001b[0;34m:\u001b[0m\u001b[0;34m\u001b[0m\u001b[0;34m\u001b[0m\u001b[0m\n\u001b[1;32m    801\u001b[0m             \u001b[0mresult\u001b[0m \u001b[0;34m=\u001b[0m \u001b[0marg\u001b[0m\u001b[0;34m.\u001b[0m\u001b[0mmap\u001b[0m\u001b[0;34m(\u001b[0m\u001b[0mcache_array\u001b[0m\u001b[0;34m)\u001b[0m\u001b[0;34m\u001b[0m\u001b[0;34m\u001b[0m\u001b[0m\n",
            "\u001b[0;32m/usr/local/lib/python3.8/dist-packages/pandas/core/tools/datetimes.py\u001b[0m in \u001b[0;36m_maybe_cache\u001b[0;34m(arg, format, cache, convert_listlike)\u001b[0m\n\u001b[1;32m    168\u001b[0m         \u001b[0munique_dates\u001b[0m \u001b[0;34m=\u001b[0m \u001b[0munique\u001b[0m\u001b[0;34m(\u001b[0m\u001b[0marg\u001b[0m\u001b[0;34m)\u001b[0m\u001b[0;34m\u001b[0m\u001b[0;34m\u001b[0m\u001b[0m\n\u001b[1;32m    169\u001b[0m         \u001b[0;32mif\u001b[0m \u001b[0mlen\u001b[0m\u001b[0;34m(\u001b[0m\u001b[0munique_dates\u001b[0m\u001b[0;34m)\u001b[0m \u001b[0;34m<\u001b[0m \u001b[0mlen\u001b[0m\u001b[0;34m(\u001b[0m\u001b[0marg\u001b[0m\u001b[0;34m)\u001b[0m\u001b[0;34m:\u001b[0m\u001b[0;34m\u001b[0m\u001b[0;34m\u001b[0m\u001b[0m\n\u001b[0;32m--> 170\u001b[0;31m             \u001b[0mcache_dates\u001b[0m \u001b[0;34m=\u001b[0m \u001b[0mconvert_listlike\u001b[0m\u001b[0;34m(\u001b[0m\u001b[0munique_dates\u001b[0m\u001b[0;34m,\u001b[0m \u001b[0mformat\u001b[0m\u001b[0;34m)\u001b[0m\u001b[0;34m\u001b[0m\u001b[0;34m\u001b[0m\u001b[0m\n\u001b[0m\u001b[1;32m    171\u001b[0m             \u001b[0mcache_array\u001b[0m \u001b[0;34m=\u001b[0m \u001b[0mSeries\u001b[0m\u001b[0;34m(\u001b[0m\u001b[0mcache_dates\u001b[0m\u001b[0;34m,\u001b[0m \u001b[0mindex\u001b[0m\u001b[0;34m=\u001b[0m\u001b[0munique_dates\u001b[0m\u001b[0;34m)\u001b[0m\u001b[0;34m\u001b[0m\u001b[0;34m\u001b[0m\u001b[0m\n\u001b[1;32m    172\u001b[0m     \u001b[0;32mreturn\u001b[0m \u001b[0mcache_array\u001b[0m\u001b[0;34m\u001b[0m\u001b[0;34m\u001b[0m\u001b[0m\n",
            "\u001b[0;32m/usr/local/lib/python3.8/dist-packages/pandas/core/tools/datetimes.py\u001b[0m in \u001b[0;36m_convert_listlike_datetimes\u001b[0;34m(arg, format, name, tz, unit, errors, infer_datetime_format, dayfirst, yearfirst, exact)\u001b[0m\n\u001b[1;32m    457\u001b[0m         \u001b[0;32massert\u001b[0m \u001b[0mformat\u001b[0m \u001b[0;32mis\u001b[0m \u001b[0;32mNone\u001b[0m \u001b[0;32mor\u001b[0m \u001b[0minfer_datetime_format\u001b[0m\u001b[0;34m\u001b[0m\u001b[0;34m\u001b[0m\u001b[0m\n\u001b[1;32m    458\u001b[0m         \u001b[0mutc\u001b[0m \u001b[0;34m=\u001b[0m \u001b[0mtz\u001b[0m \u001b[0;34m==\u001b[0m \u001b[0;34m\"utc\"\u001b[0m\u001b[0;34m\u001b[0m\u001b[0;34m\u001b[0m\u001b[0m\n\u001b[0;32m--> 459\u001b[0;31m         result, tz_parsed = objects_to_datetime64ns(\n\u001b[0m\u001b[1;32m    460\u001b[0m             \u001b[0marg\u001b[0m\u001b[0;34m,\u001b[0m\u001b[0;34m\u001b[0m\u001b[0;34m\u001b[0m\u001b[0m\n\u001b[1;32m    461\u001b[0m             \u001b[0mdayfirst\u001b[0m\u001b[0;34m=\u001b[0m\u001b[0mdayfirst\u001b[0m\u001b[0;34m,\u001b[0m\u001b[0;34m\u001b[0m\u001b[0;34m\u001b[0m\u001b[0m\n",
            "\u001b[0;32m/usr/local/lib/python3.8/dist-packages/pandas/core/arrays/datetimes.py\u001b[0m in \u001b[0;36mobjects_to_datetime64ns\u001b[0;34m(data, dayfirst, yearfirst, utc, errors, require_iso8601, allow_object)\u001b[0m\n\u001b[1;32m   2057\u001b[0m             \u001b[0;32mreturn\u001b[0m \u001b[0mvalues\u001b[0m\u001b[0;34m.\u001b[0m\u001b[0mview\u001b[0m\u001b[0;34m(\u001b[0m\u001b[0;34m\"i8\"\u001b[0m\u001b[0;34m)\u001b[0m\u001b[0;34m,\u001b[0m \u001b[0mtz_parsed\u001b[0m\u001b[0;34m\u001b[0m\u001b[0;34m\u001b[0m\u001b[0m\n\u001b[1;32m   2058\u001b[0m         \u001b[0;32mexcept\u001b[0m \u001b[0;34m(\u001b[0m\u001b[0mValueError\u001b[0m\u001b[0;34m,\u001b[0m \u001b[0mTypeError\u001b[0m\u001b[0;34m)\u001b[0m\u001b[0;34m:\u001b[0m\u001b[0;34m\u001b[0m\u001b[0;34m\u001b[0m\u001b[0m\n\u001b[0;32m-> 2059\u001b[0;31m             \u001b[0;32mraise\u001b[0m \u001b[0me\u001b[0m\u001b[0;34m\u001b[0m\u001b[0;34m\u001b[0m\u001b[0m\n\u001b[0m\u001b[1;32m   2060\u001b[0m \u001b[0;34m\u001b[0m\u001b[0m\n\u001b[1;32m   2061\u001b[0m     \u001b[0;32mif\u001b[0m \u001b[0mtz_parsed\u001b[0m \u001b[0;32mis\u001b[0m \u001b[0;32mnot\u001b[0m \u001b[0;32mNone\u001b[0m\u001b[0;34m:\u001b[0m\u001b[0;34m\u001b[0m\u001b[0;34m\u001b[0m\u001b[0m\n",
            "\u001b[0;32m/usr/local/lib/python3.8/dist-packages/pandas/core/arrays/datetimes.py\u001b[0m in \u001b[0;36mobjects_to_datetime64ns\u001b[0;34m(data, dayfirst, yearfirst, utc, errors, require_iso8601, allow_object)\u001b[0m\n\u001b[1;32m   2042\u001b[0m \u001b[0;34m\u001b[0m\u001b[0m\n\u001b[1;32m   2043\u001b[0m     \u001b[0;32mtry\u001b[0m\u001b[0;34m:\u001b[0m\u001b[0;34m\u001b[0m\u001b[0;34m\u001b[0m\u001b[0m\n\u001b[0;32m-> 2044\u001b[0;31m         result, tz_parsed = tslib.array_to_datetime(\n\u001b[0m\u001b[1;32m   2045\u001b[0m             \u001b[0mdata\u001b[0m\u001b[0;34m,\u001b[0m\u001b[0;34m\u001b[0m\u001b[0;34m\u001b[0m\u001b[0m\n\u001b[1;32m   2046\u001b[0m             \u001b[0merrors\u001b[0m\u001b[0;34m=\u001b[0m\u001b[0merrors\u001b[0m\u001b[0;34m,\u001b[0m\u001b[0;34m\u001b[0m\u001b[0;34m\u001b[0m\u001b[0m\n",
            "\u001b[0;32mpandas/_libs/tslib.pyx\u001b[0m in \u001b[0;36mpandas._libs.tslib.array_to_datetime\u001b[0;34m()\u001b[0m\n",
            "\u001b[0;32mpandas/_libs/tslib.pyx\u001b[0m in \u001b[0;36mpandas._libs.tslib.array_to_datetime\u001b[0;34m()\u001b[0m\n",
            "\u001b[0;31mValueError\u001b[0m: time data usertype doesn't match format specified"
          ]
        }
      ]
    },
    {
      "cell_type": "code",
      "execution_count": 6,
      "metadata": {},
      "outputs": [
        {
          "output_type": "execute_result",
          "data": {
            "text/plain": [
              "                                                     starttime  \\\n",
              "(trip_id, starttime, stoptime, bikeid, tripdura...    usertype   \n",
              "(2355134, 6/30/2014 23:57, 7/1/2014 0:07, 2006,...  Subscriber   \n",
              "(2355133, 6/30/2014 23:56, 7/1/2014 0:00, 2217,...  Subscriber   \n",
              "(2355130, 6/30/2014 23:33, 6/30/2014 23:35, 279...  Subscriber   \n",
              "(2355129, 6/30/2014 23:26, 7/1/2014 0:24, 173, ...  Subscriber   \n",
              "...                                                        ...   \n",
              "(25962900, 2019-12-31 23:56:13, 2020-01-01 00:1...  Subscriber   \n",
              "(25962901, 2019-12-31 23:56:34, 2020-01-01 00:2...  Subscriber   \n",
              "(25962902, 2019-12-31 23:57:05, 2020-01-01 00:0...  Subscriber   \n",
              "(25962903, 2019-12-31 23:57:11, 2020-01-01 00:0...  Subscriber   \n",
              "(25962904, 2019-12-31 23:57:17, 2019-12-31 23:5...  Subscriber   \n",
              "\n",
              "                                                   from_station_id  \\\n",
              "(trip_id, starttime, stoptime, bikeid, tripdura...          gender   \n",
              "(2355134, 6/30/2014 23:57, 7/1/2014 0:07, 2006,...            Male   \n",
              "(2355133, 6/30/2014 23:56, 7/1/2014 0:00, 2217,...            Male   \n",
              "(2355130, 6/30/2014 23:33, 6/30/2014 23:35, 279...            Male   \n",
              "(2355129, 6/30/2014 23:26, 7/1/2014 0:24, 173, ...          Female   \n",
              "...                                                            ...   \n",
              "(25962900, 2019-12-31 23:56:13, 2020-01-01 00:1...            Male   \n",
              "(25962901, 2019-12-31 23:56:34, 2020-01-01 00:2...            Male   \n",
              "(25962902, 2019-12-31 23:57:05, 2020-01-01 00:0...            Male   \n",
              "(25962903, 2019-12-31 23:57:11, 2020-01-01 00:0...          Female   \n",
              "(25962904, 2019-12-31 23:57:17, 2019-12-31 23:5...            Male   \n",
              "\n",
              "                                                   from_station_name  \n",
              "(trip_id, starttime, stoptime, bikeid, tripdura...         birthyear  \n",
              "(2355134, 6/30/2014 23:57, 7/1/2014 0:07, 2006,...              1988  \n",
              "(2355133, 6/30/2014 23:56, 7/1/2014 0:00, 2217,...              1992  \n",
              "(2355130, 6/30/2014 23:33, 6/30/2014 23:35, 279...              1993  \n",
              "(2355129, 6/30/2014 23:26, 7/1/2014 0:24, 173, ...              1988  \n",
              "...                                                              ...  \n",
              "(25962900, 2019-12-31 23:56:13, 2020-01-01 00:1...              1981  \n",
              "(25962901, 2019-12-31 23:56:34, 2020-01-01 00:2...              1992  \n",
              "(25962902, 2019-12-31 23:57:05, 2020-01-01 00:0...              1967  \n",
              "(25962903, 2019-12-31 23:57:11, 2020-01-01 00:0...              1970  \n",
              "(25962904, 2019-12-31 23:57:17, 2019-12-31 23:5...              1982  \n",
              "\n",
              "[20483578 rows x 3 columns]"
            ],
            "text/html": "<div>\n<style scoped>\n    .dataframe tbody tr th:only-of-type {\n        vertical-align: middle;\n    }\n\n    .dataframe tbody tr th {\n        vertical-align: top;\n    }\n\n    .dataframe thead th {\n        text-align: right;\n    }\n</style>\n<table border=\"1\" class=\"dataframe\">\n  <thead>\n    <tr style=\"text-align: right;\">\n      <th></th>\n      <th>starttime</th>\n      <th>from_station_id</th>\n      <th>from_station_name</th>\n    </tr>\n  </thead>\n  <tbody>\n    <tr>\n      <th>(trip_id, starttime, stoptime, bikeid, tripduration, from_station_id, from_station_name, to_station_id, to_station_name)</th>\n      <td>usertype</td>\n      <td>gender</td>\n      <td>birthyear</td>\n    </tr>\n    <tr>\n      <th>(2355134, 6/30/2014 23:57, 7/1/2014 0:07, 2006, 604, 131, Lincoln Ave &amp; Belmont Ave, 303, Broadway &amp; Cornelia Ave)</th>\n      <td>Subscriber</td>\n      <td>Male</td>\n      <td>1988</td>\n    </tr>\n    <tr>\n      <th>(2355133, 6/30/2014 23:56, 7/1/2014 0:00, 2217, 263, 282, Halsted St &amp; Maxwell St, 22, May St &amp; Taylor St)</th>\n      <td>Subscriber</td>\n      <td>Male</td>\n      <td>1992</td>\n    </tr>\n    <tr>\n      <th>(2355130, 6/30/2014 23:33, 6/30/2014 23:35, 2798, 126, 327, Sheffield Ave &amp; Webster Ave, 225, Halsted St &amp; Dickens Ave)</th>\n      <td>Subscriber</td>\n      <td>Male</td>\n      <td>1993</td>\n    </tr>\n    <tr>\n      <th>(2355129, 6/30/2014 23:26, 7/1/2014 0:24, 173, 3481, 134, Peoria St &amp; Jackson Blvd, 194, State St &amp; Wacker Dr)</th>\n      <td>Subscriber</td>\n      <td>Female</td>\n      <td>1988</td>\n    </tr>\n    <tr>\n      <th>...</th>\n      <td>...</td>\n      <td>...</td>\n      <td>...</td>\n    </tr>\n    <tr>\n      <th>(25962900, 2019-12-31 23:56:13, 2020-01-01 00:15:45, 2196, 1,172.0, 112, Green St &amp; Randolph St, 225, Halsted St &amp; Dickens Ave)</th>\n      <td>Subscriber</td>\n      <td>Male</td>\n      <td>1981</td>\n    </tr>\n    <tr>\n      <th>(25962901, 2019-12-31 23:56:34, 2020-01-01 00:22:08, 4877, 1,533.0, 90, Millennium Park, 90, Millennium Park)</th>\n      <td>Subscriber</td>\n      <td>Male</td>\n      <td>1992</td>\n    </tr>\n    <tr>\n      <th>(25962902, 2019-12-31 23:57:05, 2020-01-01 00:05:46, 863, 520.0, 623, Michigan Ave &amp; 8th St, 52, Michigan Ave &amp; Lake St)</th>\n      <td>Subscriber</td>\n      <td>Male</td>\n      <td>1967</td>\n    </tr>\n    <tr>\n      <th>(25962903, 2019-12-31 23:57:11, 2020-01-01 00:05:45, 2637, 514.0, 623, Michigan Ave &amp; 8th St, 52, Michigan Ave &amp; Lake St)</th>\n      <td>Subscriber</td>\n      <td>Female</td>\n      <td>1970</td>\n    </tr>\n    <tr>\n      <th>(25962904, 2019-12-31 23:57:17, 2019-12-31 23:59:18, 5930, 120.0, 256, Broadway &amp; Sheridan Rd, 240, Sheridan Rd &amp; Irving Park Rd)</th>\n      <td>Subscriber</td>\n      <td>Male</td>\n      <td>1982</td>\n    </tr>\n  </tbody>\n</table>\n<p>20483578 rows × 3 columns</p>\n</div>"
          },
          "metadata": {},
          "execution_count": 6
        }
      ],
      "source": [
        "df"
      ]
    },
    {
      "cell_type": "code",
      "metadata": {
        "id": "eBSOa83rX0-e",
        "outputId": "60e20029-74c9-44a6-c06e-a5d89bd8936d",
        "colab": {
          "base_uri": "https://localhost:8080/",
          "height": 35
        }
      },
      "source": [
        "f\"{path()}/trips.pickle\""
      ],
      "execution_count": 33,
      "outputs": [
        {
          "output_type": "execute_result",
          "data": {
            "application/vnd.google.colaboratory.intrinsic+json": {
              "type": "string"
            },
            "text/plain": [
              "'/content/bike-forecasting/src/preprocessing/../../data/files/trips.pickle'"
            ]
          },
          "metadata": {
            "tags": []
          },
          "execution_count": 33
        }
      ]
    },
    {
      "cell_type": "code",
      "metadata": {
        "id": "mIo7Qr-LT1i-",
        "outputId": "7fca96fc-1462-472f-a6fc-42fc3a05080b"
      },
      "source": [
        "df"
      ],
      "execution_count": null,
      "outputs": [
        {
          "output_type": "execute_result",
          "data": {
            "text/plain": [
              "                                                                                                                                                              starttime  \\\n",
              "trip_id  starttime           stoptime            bikeid tripduration from_station_id from_station_name           to_station_id to_station_name                 usertype   \n",
              "2355134  6/30/2014 23:57     7/1/2014 0:07       2006   604          131             Lincoln Ave & Belmont Ave   303           Broadway & Cornelia Ave       Subscriber   \n",
              "2355133  6/30/2014 23:56     7/1/2014 0:00       2217   263          282             Halsted St & Maxwell St     22            May St & Taylor St            Subscriber   \n",
              "2355130  6/30/2014 23:33     6/30/2014 23:35     2798   126          327             Sheffield Ave & Webster Ave 225           Halsted St & Dickens Ave      Subscriber   \n",
              "2355129  6/30/2014 23:26     7/1/2014 0:24       173    3481         134             Peoria St & Jackson Blvd    194           State St & Wacker Dr          Subscriber   \n",
              "...                                                                                                                                                                 ...   \n",
              "25962900 2019-12-31 23:56:13 2020-01-01 00:15:45 2196   1,172.0      112             Green St & Randolph St      225           Halsted St & Dickens Ave      Subscriber   \n",
              "25962901 2019-12-31 23:56:34 2020-01-01 00:22:08 4877   1,533.0      90              Millennium Park             90            Millennium Park               Subscriber   \n",
              "25962902 2019-12-31 23:57:05 2020-01-01 00:05:46 863    520.0        623             Michigan Ave & 8th St       52            Michigan Ave & Lake St        Subscriber   \n",
              "25962903 2019-12-31 23:57:11 2020-01-01 00:05:45 2637   514.0        623             Michigan Ave & 8th St       52            Michigan Ave & Lake St        Subscriber   \n",
              "25962904 2019-12-31 23:57:17 2019-12-31 23:59:18 5930   120.0        256             Broadway & Sheridan Rd      240           Sheridan Rd & Irving Park Rd  Subscriber   \n",
              "\n",
              "                                                                                                                                                            from_station_id  \\\n",
              "trip_id  starttime           stoptime            bikeid tripduration from_station_id from_station_name           to_station_id to_station_name                       gender   \n",
              "2355134  6/30/2014 23:57     7/1/2014 0:07       2006   604          131             Lincoln Ave & Belmont Ave   303           Broadway & Cornelia Ave                 Male   \n",
              "2355133  6/30/2014 23:56     7/1/2014 0:00       2217   263          282             Halsted St & Maxwell St     22            May St & Taylor St                      Male   \n",
              "2355130  6/30/2014 23:33     6/30/2014 23:35     2798   126          327             Sheffield Ave & Webster Ave 225           Halsted St & Dickens Ave                Male   \n",
              "2355129  6/30/2014 23:26     7/1/2014 0:24       173    3481         134             Peoria St & Jackson Blvd    194           State St & Wacker Dr                  Female   \n",
              "...                                                                                                                                                                     ...   \n",
              "25962900 2019-12-31 23:56:13 2020-01-01 00:15:45 2196   1,172.0      112             Green St & Randolph St      225           Halsted St & Dickens Ave                Male   \n",
              "25962901 2019-12-31 23:56:34 2020-01-01 00:22:08 4877   1,533.0      90              Millennium Park             90            Millennium Park                         Male   \n",
              "25962902 2019-12-31 23:57:05 2020-01-01 00:05:46 863    520.0        623             Michigan Ave & 8th St       52            Michigan Ave & Lake St                  Male   \n",
              "25962903 2019-12-31 23:57:11 2020-01-01 00:05:45 2637   514.0        623             Michigan Ave & 8th St       52            Michigan Ave & Lake St                Female   \n",
              "25962904 2019-12-31 23:57:17 2019-12-31 23:59:18 5930   120.0        256             Broadway & Sheridan Rd      240           Sheridan Rd & Irving Park Rd            Male   \n",
              "\n",
              "                                                                                                                                                            from_station_name  \n",
              "trip_id  starttime           stoptime            bikeid tripduration from_station_id from_station_name           to_station_id to_station_name                      birthyear  \n",
              "2355134  6/30/2014 23:57     7/1/2014 0:07       2006   604          131             Lincoln Ave & Belmont Ave   303           Broadway & Cornelia Ave                   1988  \n",
              "2355133  6/30/2014 23:56     7/1/2014 0:00       2217   263          282             Halsted St & Maxwell St     22            May St & Taylor St                        1992  \n",
              "2355130  6/30/2014 23:33     6/30/2014 23:35     2798   126          327             Sheffield Ave & Webster Ave 225           Halsted St & Dickens Ave                  1993  \n",
              "2355129  6/30/2014 23:26     7/1/2014 0:24       173    3481         134             Peoria St & Jackson Blvd    194           State St & Wacker Dr                      1988  \n",
              "...                                                                                                                                                                       ...  \n",
              "25962900 2019-12-31 23:56:13 2020-01-01 00:15:45 2196   1,172.0      112             Green St & Randolph St      225           Halsted St & Dickens Ave                  1981  \n",
              "25962901 2019-12-31 23:56:34 2020-01-01 00:22:08 4877   1,533.0      90              Millennium Park             90            Millennium Park                           1992  \n",
              "25962902 2019-12-31 23:57:05 2020-01-01 00:05:46 863    520.0        623             Michigan Ave & 8th St       52            Michigan Ave & Lake St                    1967  \n",
              "25962903 2019-12-31 23:57:11 2020-01-01 00:05:45 2637   514.0        623             Michigan Ave & 8th St       52            Michigan Ave & Lake St                    1970  \n",
              "25962904 2019-12-31 23:57:17 2019-12-31 23:59:18 5930   120.0        256             Broadway & Sheridan Rd      240           Sheridan Rd & Irving Park Rd              1982  \n",
              "\n",
              "[20483584 rows x 3 columns]"
            ],
            "text/html": [
              "<div>\n",
              "<style scoped>\n",
              "    .dataframe tbody tr th:only-of-type {\n",
              "        vertical-align: middle;\n",
              "    }\n",
              "\n",
              "    .dataframe tbody tr th {\n",
              "        vertical-align: top;\n",
              "    }\n",
              "\n",
              "    .dataframe thead th {\n",
              "        text-align: right;\n",
              "    }\n",
              "</style>\n",
              "<table border=\"1\" class=\"dataframe\">\n",
              "  <thead>\n",
              "    <tr style=\"text-align: right;\">\n",
              "      <th></th>\n",
              "      <th></th>\n",
              "      <th></th>\n",
              "      <th></th>\n",
              "      <th></th>\n",
              "      <th></th>\n",
              "      <th></th>\n",
              "      <th></th>\n",
              "      <th></th>\n",
              "      <th>starttime</th>\n",
              "      <th>from_station_id</th>\n",
              "      <th>from_station_name</th>\n",
              "    </tr>\n",
              "  </thead>\n",
              "  <tbody>\n",
              "    <tr>\n",
              "      <th>trip_id</th>\n",
              "      <th>starttime</th>\n",
              "      <th>stoptime</th>\n",
              "      <th>bikeid</th>\n",
              "      <th>tripduration</th>\n",
              "      <th>from_station_id</th>\n",
              "      <th>from_station_name</th>\n",
              "      <th>to_station_id</th>\n",
              "      <th>to_station_name</th>\n",
              "      <td>usertype</td>\n",
              "      <td>gender</td>\n",
              "      <td>birthyear</td>\n",
              "    </tr>\n",
              "    <tr>\n",
              "      <th>2355134</th>\n",
              "      <th>6/30/2014 23:57</th>\n",
              "      <th>7/1/2014 0:07</th>\n",
              "      <th>2006</th>\n",
              "      <th>604</th>\n",
              "      <th>131</th>\n",
              "      <th>Lincoln Ave &amp; Belmont Ave</th>\n",
              "      <th>303</th>\n",
              "      <th>Broadway &amp; Cornelia Ave</th>\n",
              "      <td>Subscriber</td>\n",
              "      <td>Male</td>\n",
              "      <td>1988</td>\n",
              "    </tr>\n",
              "    <tr>\n",
              "      <th>2355133</th>\n",
              "      <th>6/30/2014 23:56</th>\n",
              "      <th>7/1/2014 0:00</th>\n",
              "      <th>2217</th>\n",
              "      <th>263</th>\n",
              "      <th>282</th>\n",
              "      <th>Halsted St &amp; Maxwell St</th>\n",
              "      <th>22</th>\n",
              "      <th>May St &amp; Taylor St</th>\n",
              "      <td>Subscriber</td>\n",
              "      <td>Male</td>\n",
              "      <td>1992</td>\n",
              "    </tr>\n",
              "    <tr>\n",
              "      <th>2355130</th>\n",
              "      <th>6/30/2014 23:33</th>\n",
              "      <th>6/30/2014 23:35</th>\n",
              "      <th>2798</th>\n",
              "      <th>126</th>\n",
              "      <th>327</th>\n",
              "      <th>Sheffield Ave &amp; Webster Ave</th>\n",
              "      <th>225</th>\n",
              "      <th>Halsted St &amp; Dickens Ave</th>\n",
              "      <td>Subscriber</td>\n",
              "      <td>Male</td>\n",
              "      <td>1993</td>\n",
              "    </tr>\n",
              "    <tr>\n",
              "      <th>2355129</th>\n",
              "      <th>6/30/2014 23:26</th>\n",
              "      <th>7/1/2014 0:24</th>\n",
              "      <th>173</th>\n",
              "      <th>3481</th>\n",
              "      <th>134</th>\n",
              "      <th>Peoria St &amp; Jackson Blvd</th>\n",
              "      <th>194</th>\n",
              "      <th>State St &amp; Wacker Dr</th>\n",
              "      <td>Subscriber</td>\n",
              "      <td>Female</td>\n",
              "      <td>1988</td>\n",
              "    </tr>\n",
              "    <tr>\n",
              "      <th>...</th>\n",
              "      <th>...</th>\n",
              "      <th>...</th>\n",
              "      <th>...</th>\n",
              "      <th>...</th>\n",
              "      <th>...</th>\n",
              "      <th>...</th>\n",
              "      <th>...</th>\n",
              "      <th>...</th>\n",
              "      <td>...</td>\n",
              "      <td>...</td>\n",
              "      <td>...</td>\n",
              "    </tr>\n",
              "    <tr>\n",
              "      <th>25962900</th>\n",
              "      <th>2019-12-31 23:56:13</th>\n",
              "      <th>2020-01-01 00:15:45</th>\n",
              "      <th>2196</th>\n",
              "      <th>1,172.0</th>\n",
              "      <th>112</th>\n",
              "      <th>Green St &amp; Randolph St</th>\n",
              "      <th>225</th>\n",
              "      <th>Halsted St &amp; Dickens Ave</th>\n",
              "      <td>Subscriber</td>\n",
              "      <td>Male</td>\n",
              "      <td>1981</td>\n",
              "    </tr>\n",
              "    <tr>\n",
              "      <th>25962901</th>\n",
              "      <th>2019-12-31 23:56:34</th>\n",
              "      <th>2020-01-01 00:22:08</th>\n",
              "      <th>4877</th>\n",
              "      <th>1,533.0</th>\n",
              "      <th>90</th>\n",
              "      <th>Millennium Park</th>\n",
              "      <th>90</th>\n",
              "      <th>Millennium Park</th>\n",
              "      <td>Subscriber</td>\n",
              "      <td>Male</td>\n",
              "      <td>1992</td>\n",
              "    </tr>\n",
              "    <tr>\n",
              "      <th>25962902</th>\n",
              "      <th>2019-12-31 23:57:05</th>\n",
              "      <th>2020-01-01 00:05:46</th>\n",
              "      <th>863</th>\n",
              "      <th>520.0</th>\n",
              "      <th>623</th>\n",
              "      <th>Michigan Ave &amp; 8th St</th>\n",
              "      <th>52</th>\n",
              "      <th>Michigan Ave &amp; Lake St</th>\n",
              "      <td>Subscriber</td>\n",
              "      <td>Male</td>\n",
              "      <td>1967</td>\n",
              "    </tr>\n",
              "    <tr>\n",
              "      <th>25962903</th>\n",
              "      <th>2019-12-31 23:57:11</th>\n",
              "      <th>2020-01-01 00:05:45</th>\n",
              "      <th>2637</th>\n",
              "      <th>514.0</th>\n",
              "      <th>623</th>\n",
              "      <th>Michigan Ave &amp; 8th St</th>\n",
              "      <th>52</th>\n",
              "      <th>Michigan Ave &amp; Lake St</th>\n",
              "      <td>Subscriber</td>\n",
              "      <td>Female</td>\n",
              "      <td>1970</td>\n",
              "    </tr>\n",
              "    <tr>\n",
              "      <th>25962904</th>\n",
              "      <th>2019-12-31 23:57:17</th>\n",
              "      <th>2019-12-31 23:59:18</th>\n",
              "      <th>5930</th>\n",
              "      <th>120.0</th>\n",
              "      <th>256</th>\n",
              "      <th>Broadway &amp; Sheridan Rd</th>\n",
              "      <th>240</th>\n",
              "      <th>Sheridan Rd &amp; Irving Park Rd</th>\n",
              "      <td>Subscriber</td>\n",
              "      <td>Male</td>\n",
              "      <td>1982</td>\n",
              "    </tr>\n",
              "  </tbody>\n",
              "</table>\n",
              "<p>20483584 rows × 3 columns</p>\n",
              "</div>"
            ]
          },
          "metadata": {
            "tags": []
          },
          "execution_count": 4
        }
      ]
    }
  ]
}